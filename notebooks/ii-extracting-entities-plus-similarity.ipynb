{
 "cells": [
  {
   "cell_type": "markdown",
   "metadata": {
    "colab_type": "text",
    "id": "94gdnTZx3rpX"
   },
   "source": [
    "# Entity Extratction with spaCy"
   ]
  },
  {
   "cell_type": "markdown",
   "metadata": {
    "colab_type": "text",
    "id": "oMdrdIFE3rpZ"
   },
   "source": [
    "## Overview\n",
    "\n",
    "We're going to look for all the people mentioned in a pile of documents.\n",
    "\n",
    "### Entites\n",
    "\n",
    "\"Entities\" in documents are, generally, names -- names of people, places, and things such as companies. Finding out which entities are mentioned in a trove of documents can be pretty helpful, especially when you don't previously _know_ someone or some place is included the document.\n",
    "\n",
    "There are services online that do this kind of extraction, including [DocumentCloud](https://www.documentcloud.org/) ([see how here](https://www.documentcloud.org/faq#faq-analyzing-1)), [Amazon Comprehend](https://aws.amazon.com/comprehend/features/) and [Google Natural Language](https://cloud.google.com/natural-language/).\n",
    "\n",
    "### Using spaCy\n",
    "\n",
    "We're going to do our entity extraction right here in our notebook using a pre-trained natural language model called [spaCy](https://spacy.io/). Specifically, we're using the spaCy [large English language model](https://spacy.io/models/en#en_core_web_lg) trained on the [OntoNotes dataset](https://catalog.ldc.upenn.edu/LDC2013T19) -- a trove of \"telephone conversations, newswire, newsgroups, broadcast news, broadcast conversation, weblogs\" that includes nearly 1.5 million English words.  \n",
    "\n",
    "The spaCy project has a lot of great language features. We'll be looking at the [named entities feature](https://spacy.io/usage/linguistic-features#named-entities). Note also that there are [models for several languages](https://spacy.io/models) being developed in spaCy.\n",
    "\n",
    "\n",
    "## The Plan\n",
    "\n",
    "- We'll download the spaCy software and the large English language model.\n",
    "- We'll also download a (smallish) pile of emails released in a court case.\n",
    "- We'll learn how to use spaCy functions to extract entities\n",
    "- We'll use the spaCy functions to scan all the pages of the emails."
   ]
  },
  {
   "cell_type": "markdown",
   "metadata": {
    "colab_type": "text",
    "id": "iyic6J1H3rpa"
   },
   "source": [
    "## Credits\n",
    "\n",
    "This notebook was written by John Keefe [Quartz](https://qz.com) at Quartz and includes document-processing code written included in [a blog post](https://qz.ai/discovering-interesting-documents-in-the-mauritius-leaks/) and a [Jupyter notebook](https://github.com/Quartz/aistudio-doc2vec-for-investigative-journalism/blob/master/Doc2vec%20for%20Investigative%20Journalism.ipynb) by Jeremy B. Merrill at Quartz, who used it to help find documents inside a document dump known as the [Mauritius Leaks](https://qz.com/1670632/how-quartz-used-ai-to-help-reporters-search-the-mauritius-leaks/).  \n",
    "\n",
    "-- John Keefe, [Quartz](https://qz.com), October 2019"
   ]
  },
  {
   "cell_type": "markdown",
   "metadata": {
    "colab_type": "text",
    "id": "ZY9wZpxT3rpa"
   },
   "source": [
    "## Setup"
   ]
  },
  {
   "cell_type": "markdown",
   "metadata": {
    "colab_type": "text",
    "id": "YFQXziPj3rpb"
   },
   "source": [
    "### For those using Google Colaboratory ...\n",
    "\n",
    "Be aware that Google Colab instances are ephemeral -- they vanish *Poof* when you close them, or after a period of sitting idle (currently 90 minutes), or if you use one for more than 12 hours.\n",
    "\n",
    "If you're using Google Colaboratory, be sure to set your runtime to \"GPU\" which speeds up your notebook for machine learning:\n",
    "\n",
    "![change runtime](https://qz-aistudio-public.s3.amazonaws.com/workshops/notebook_images/change_runtime_2.jpg)\n",
    "![pick gpu](https://qz-aistudio-public.s3.amazonaws.com/workshops/notebook_images/pick_gpu_2.jpg)"
   ]
  },
  {
   "cell_type": "markdown",
   "metadata": {
    "colab_type": "text",
    "id": "qpmTeT2D3rpd"
   },
   "source": [
    "### Everybody do this ..."
   ]
  },
  {
   "cell_type": "markdown",
   "metadata": {
    "colab_type": "text",
    "id": "R-SVR0P03rpe"
   },
   "source": [
    "Everyone needs to run the next cell, which initializes the Python libraries we'll use in this notebook."
   ]
  },
  {
   "cell_type": "code",
   "execution_count": 1,
   "metadata": {
    "colab": {
     "base_uri": "https://localhost:8080/",
     "height": 625
    },
    "colab_type": "code",
    "id": "Efrdg2kQ3rpf",
    "outputId": "bbd14618-1680-475b-916e-b711bcc93ac9"
   },
   "outputs": [
    {
     "name": "stdout",
     "output_type": "stream",
     "text": [
      "CUDA Version 10.0.130\n",
      "\u001b[K     |████████████████████████████████| 10.2MB 4.9MB/s \n",
      "\u001b[K     |████████████████████████████████| 3.7MB 46.9MB/s \n",
      "\u001b[K     |████████████████████████████████| 122kB 52.3MB/s \n",
      "\u001b[K     |████████████████████████████████| 2.1MB 41.8MB/s \n",
      "\u001b[?25hCollecting en_core_web_lg==2.2.0\n",
      "\u001b[?25l  Downloading https://github.com/explosion/spacy-models/releases/download/en_core_web_lg-2.2.0/en_core_web_lg-2.2.0.tar.gz (827.9MB)\n",
      "\u001b[K     |████████████████████████████████| 827.9MB 1.1MB/s \n",
      "\u001b[?25hRequirement already satisfied: spacy>=2.2.0 in /usr/local/lib/python3.6/dist-packages (from en_core_web_lg==2.2.0) (2.2.1)\n",
      "Requirement already satisfied: thinc<7.2.0,>=7.1.1 in /usr/local/lib/python3.6/dist-packages (from spacy>=2.2.0->en_core_web_lg==2.2.0) (7.1.1)\n",
      "Requirement already satisfied: murmurhash<1.1.0,>=0.28.0 in /usr/local/lib/python3.6/dist-packages (from spacy>=2.2.0->en_core_web_lg==2.2.0) (1.0.2)\n",
      "Requirement already satisfied: srsly<1.1.0,>=0.1.0 in /usr/local/lib/python3.6/dist-packages (from spacy>=2.2.0->en_core_web_lg==2.2.0) (0.1.0)\n",
      "Requirement already satisfied: blis<0.5.0,>=0.4.0 in /usr/local/lib/python3.6/dist-packages (from spacy>=2.2.0->en_core_web_lg==2.2.0) (0.4.1)\n",
      "Requirement already satisfied: plac<1.0.0,>=0.9.6 in /usr/local/lib/python3.6/dist-packages (from spacy>=2.2.0->en_core_web_lg==2.2.0) (0.9.6)\n",
      "Requirement already satisfied: wasabi<1.1.0,>=0.2.0 in /usr/local/lib/python3.6/dist-packages (from spacy>=2.2.0->en_core_web_lg==2.2.0) (0.2.2)\n",
      "Requirement already satisfied: preshed<3.1.0,>=3.0.2 in /usr/local/lib/python3.6/dist-packages (from spacy>=2.2.0->en_core_web_lg==2.2.0) (3.0.2)\n",
      "Requirement already satisfied: numpy>=1.15.0 in /usr/local/lib/python3.6/dist-packages (from spacy>=2.2.0->en_core_web_lg==2.2.0) (1.17.3)\n",
      "Requirement already satisfied: requests<3.0.0,>=2.13.0 in /usr/local/lib/python3.6/dist-packages (from spacy>=2.2.0->en_core_web_lg==2.2.0) (2.21.0)\n",
      "Requirement already satisfied: cymem<2.1.0,>=2.0.2 in /usr/local/lib/python3.6/dist-packages (from spacy>=2.2.0->en_core_web_lg==2.2.0) (2.0.2)\n",
      "Requirement already satisfied: tqdm<5.0.0,>=4.10.0 in /usr/local/lib/python3.6/dist-packages (from thinc<7.2.0,>=7.1.1->spacy>=2.2.0->en_core_web_lg==2.2.0) (4.28.1)\n",
      "Requirement already satisfied: urllib3<1.25,>=1.21.1 in /usr/local/lib/python3.6/dist-packages (from requests<3.0.0,>=2.13.0->spacy>=2.2.0->en_core_web_lg==2.2.0) (1.24.3)\n",
      "Requirement already satisfied: chardet<3.1.0,>=3.0.2 in /usr/local/lib/python3.6/dist-packages (from requests<3.0.0,>=2.13.0->spacy>=2.2.0->en_core_web_lg==2.2.0) (3.0.4)\n",
      "Requirement already satisfied: idna<2.9,>=2.5 in /usr/local/lib/python3.6/dist-packages (from requests<3.0.0,>=2.13.0->spacy>=2.2.0->en_core_web_lg==2.2.0) (2.8)\n",
      "Requirement already satisfied: certifi>=2017.4.17 in /usr/local/lib/python3.6/dist-packages (from requests<3.0.0,>=2.13.0->spacy>=2.2.0->en_core_web_lg==2.2.0) (2019.9.11)\n",
      "Building wheels for collected packages: en-core-web-lg\n",
      "  Building wheel for en-core-web-lg (setup.py) ... \u001b[?25l\u001b[?25hdone\n",
      "  Created wheel for en-core-web-lg: filename=en_core_web_lg-2.2.0-cp36-none-any.whl size=829187831 sha256=ff8c2e0d2e093c1c26d3e90cb73bfd6ef89c52d8611927687f643d5c44833712\n",
      "  Stored in directory: /tmp/pip-ephem-wheel-cache-60n9aon3/wheels/9f/3c/d6/3ade7ed8195030f4d7f299cf73d856a84d7b3effd5890133fb\n",
      "Successfully built en-core-web-lg\n",
      "Installing collected packages: en-core-web-lg\n",
      "Successfully installed en-core-web-lg-2.2.0\n",
      "\u001b[38;5;2m✔ Download and installation successful\u001b[0m\n",
      "You can now load the model via spacy.load('en_core_web_lg')\n",
      "\u001b[K     |████████████████████████████████| 81kB 3.7MB/s \n",
      "\u001b[?25h  Building wheel for PyPDF2 (setup.py) ... \u001b[?25l\u001b[?25hdone\n"
     ]
    }
   ],
   "source": [
    "## *EVERYBODY* SHOULD RUN THIS CELL\n",
    "## This can take up to 3 minutes ... but that's normal\n",
    "%cat /usr/local/cuda/version.txt\n",
    "\n",
    "!pip install -U spacy --quiet\n",
    "!python -m spacy download en_core_web_lg\n",
    "!pip install PyPDF2 --quiet\n",
    "\n",
    "import spacy\n",
    "import en_core_web_lg\n",
    "import PyPDF2\n",
    "import json\n",
    "from os.path import exists"
   ]
  },
  {
   "cell_type": "markdown",
   "metadata": {
    "colab_type": "text",
    "id": "ezEMpvHJ3rpk"
   },
   "source": [
    "## The Data"
   ]
  },
  {
   "cell_type": "markdown",
   "metadata": {
    "colab_type": "text",
    "id": "BW5XuS5B3rpm"
   },
   "source": [
    "In this tutorial, we're going to look at some emails from the office of New York City mayor Bill de Blasio that were released under the Freedom of Information Law. \n",
    "\n",
    "The emails were part of the [\"Agent of the City\" hubbub](https://www.ny1.com/nyc/all-boroughs/news/2018/05/24/agents-of-the-city-emails-released), in which 4,000 city emails were released. You can download the [original file here](https://a860-openrecords.nyc.gov/response/120252?token=c784372fd140497081b4bfcff9f0e3a0) -- though we'll be using a file containing just [the first 100 pages](https://qz-aistudio-public.s3.amazonaws.com/workshops/2018.05.24_BerlinRosen_Responsive_Records_100pgs.pdf) for this exercise. "
   ]
  },
  {
   "cell_type": "code",
   "execution_count": 7,
   "metadata": {
    "colab": {
     "base_uri": "https://localhost:8080/",
     "height": 34
    },
    "colab_type": "code",
    "id": "pPycS4yI3rpn",
    "outputId": "80fa58f1-6280-45b7-9793-e5eb1591a505"
   },
   "outputs": [
    {
     "name": "stdout",
     "output_type": "stream",
     "text": [
      "Done!\n"
     ]
    }
   ],
   "source": [
    "# Run this cell to download the data we'll use for this exercise\n",
    "!wget -N https://qz-aistudio-public.s3.amazonaws.com/workshops/deblasio_emails_data.zip --quiet\n",
    "!unzip -q deblasio_emails_data.zip\n",
    "print('Done!')"
   ]
  },
  {
   "cell_type": "markdown",
   "metadata": {
    "colab_type": "text",
    "collapsed": true,
    "id": "ibllkB0E3rpq"
   },
   "source": [
    "Let's look at what we have."
   ]
  },
  {
   "cell_type": "code",
   "execution_count": 0,
   "metadata": {
    "colab": {},
    "colab_type": "code",
    "collapsed": true,
    "id": "OwTwZclU3rpr",
    "scrolled": true
   },
   "outputs": [],
   "source": [
    "%ls data/"
   ]
  },
  {
   "cell_type": "markdown",
   "metadata": {
    "colab_type": "text",
    "id": "x8gveu1h3rpu"
   },
   "source": [
    "## Trying the entity extraction feature"
   ]
  },
  {
   "cell_type": "code",
   "execution_count": 0,
   "metadata": {
    "colab": {},
    "colab_type": "code",
    "collapsed": true,
    "id": "y-_IKlRm3rpv"
   },
   "outputs": [],
   "source": [
    "# First we load the model into the notebook\n",
    "nlp = en_core_web_lg.load()"
   ]
  },
  {
   "cell_type": "code",
   "execution_count": 0,
   "metadata": {
    "colab": {},
    "colab_type": "code",
    "collapsed": true,
    "id": "QPQcAmcf3rpz",
    "scrolled": true
   },
   "outputs": [],
   "source": [
    "# Now let's give it a try\n",
    "doc = nlp(u\"San Francisco considers banning sidewalk delivery robots\")\n"
   ]
  },
  {
   "cell_type": "code",
   "execution_count": 0,
   "metadata": {
    "colab": {},
    "colab_type": "code",
    "collapsed": true,
    "id": "QdzIa7TW3rp2"
   },
   "outputs": [],
   "source": [
    "for entity in doc.ents:\n",
    "    print(entity.text, entity.label_, spacy.explain(entity.label_))"
   ]
  },
  {
   "cell_type": "markdown",
   "metadata": {
    "colab_type": "text",
    "id": "1He7j8-X3rp5"
   },
   "source": [
    "There's [a whole list of entities spaCy can detect](https://spacy.io/api/annotation#named-entities)!"
   ]
  },
  {
   "cell_type": "code",
   "execution_count": 0,
   "metadata": {
    "colab": {},
    "colab_type": "code",
    "collapsed": true,
    "id": "fRyH0kJ93rp6"
   },
   "outputs": [],
   "source": [
    "my_story = \"\"\"\n",
    "John drove his Volkswagen Golf north on Interstate 35 to Duluth, Minnesota,\n",
    "where he stopped at the Aerial Lift Bridge and looked out over\n",
    "Lake Superior. \n",
    "\"\"\"\n",
    "\n",
    "doc = nlp(my_story)"
   ]
  },
  {
   "cell_type": "markdown",
   "metadata": {
    "colab_type": "text",
    "collapsed": true,
    "id": "PkDd5uRn3rp-"
   },
   "source": [
    "## Load the emails into a \"jsonl\" file\n",
    "\n",
    "JSONL is a file format that stores data in a JSON file, with each record living on its own line in the file.\n",
    "\n",
    "This next block reads the PDF file and turns it into a JSONL file, which is much easier to work with."
   ]
  },
  {
   "cell_type": "code",
   "execution_count": 0,
   "metadata": {
    "colab": {},
    "colab_type": "code",
    "collapsed": true,
    "id": "I-VcNyXh3rp_"
   },
   "outputs": [],
   "source": [
    "# read the PDF file into a new file called 'nyc_docs.jsonl'\n",
    "jsonl_file = \"nyc_docs.jsonl\"\n",
    "if not exists(jsonl_file):\n",
    "    pdf_file = open('data/2018.05.24_BerlinRosen_Responsive_Records_100pgs.pdf', 'rb')\n",
    "    read_pdf = PyPDF2.PdfFileReader(pdf_file)\n",
    "    with open(jsonl_file, 'w') as f:\n",
    "        for page_num in range(read_pdf.getNumPages()):\n",
    "            page = read_pdf.getPage(page_num)\n",
    "            page_content = page.extractText().encode('utf-8').decode(\"utf-8\") \n",
    "            f.write(json.dumps({\"_source\": {\"content\": page_content}, \"_id\": f\"p{page_num+1}\"}) + \"\\n\")"
   ]
  },
  {
   "cell_type": "code",
   "execution_count": 0,
   "metadata": {
    "colab": {},
    "colab_type": "code",
    "collapsed": true,
    "id": "E5gRR5bn3rqC"
   },
   "outputs": [],
   "source": [
    "# let's take a look at the first few lines of the file\n",
    "!head nyc_docs.jsonl"
   ]
  },
  {
   "cell_type": "markdown",
   "metadata": {
    "colab_type": "text",
    "id": "tE85H30i3rqF"
   },
   "source": [
    "Each line in the JSON file now represents a single page in the original document. So now we'll step through each line (aka page) and grab all the entities in the text. Then we'll print out all the entities."
   ]
  },
  {
   "cell_type": "markdown",
   "metadata": {
    "colab_type": "text",
    "id": "D8mtlX2a3rqG"
   },
   "source": [
    "## Finding and listing the names"
   ]
  },
  {
   "cell_type": "code",
   "execution_count": 0,
   "metadata": {
    "colab": {},
    "colab_type": "code",
    "collapsed": true,
    "id": "mqW7OlaA3rqH"
   },
   "outputs": [],
   "source": [
    "with open(jsonl_file, 'r') as f:        # open the jsonl file\n",
    "    for line in f:                      # loop through each line ...\n",
    "        line = json.loads(line)            # read the line \n",
    "        text = line[\"_source\"][\"content\"]  # grab the text of the email\n",
    "        page_number = line[\"_id\"]          # grab the page number we're on\n",
    "        doc = nlp(text)                    # load the text into the nlp model\n",
    "        for ent in doc.ents:               # loop through each entity in the text...\n",
    "            if (ent.label_ == \"PERSON\"):      # if the entity is a person's name ...\n",
    "                print(page_number, ent.text)  # print the page number and the name"
   ]
  },
  {
   "cell_type": "markdown",
   "metadata": {
    "colab_type": "text",
    "id": "yljmasbP3rqK"
   },
   "source": [
    "Really we want a list of _names_ not pages, right?"
   ]
  },
  {
   "cell_type": "code",
   "execution_count": 0,
   "metadata": {
    "colab": {},
    "colab_type": "code",
    "collapsed": true,
    "id": "fx0ornSi3rqL"
   },
   "outputs": [],
   "source": [
    "list_of_names = {}\n",
    "\n",
    "with open(jsonl_file, 'r') as f:\n",
    "    for line in f:\n",
    "        line = json.loads(line)\n",
    "        text = line[\"_source\"][\"content\"]\n",
    "        page_number = line[\"_id\"]\n",
    "        doc = nlp(text)\n",
    "        \n",
    "        # loop through the entities in the page\n",
    "        for ent in doc.ents:\n",
    "            \n",
    "            # is the entity is a person ...\n",
    "            if (ent.label_ == \"PERSON\"):\n",
    "                \n",
    "                # check if we already have this entity\n",
    "                if ent.text in list_of_names:\n",
    "                    \n",
    "                    # add this page to the entity's list of pages\n",
    "                    list_of_names[ent.text] += \" \" + page_number\n",
    "                    \n",
    "                else:\n",
    "                    \n",
    "                    # otheriwise start a list of pages\n",
    "                    list_of_names[ent.text] = page_number"
   ]
  },
  {
   "cell_type": "code",
   "execution_count": 0,
   "metadata": {
    "colab": {},
    "colab_type": "code",
    "collapsed": true,
    "id": "AtjOnAvd3rqP"
   },
   "outputs": [],
   "source": [
    "list_of_names"
   ]
  },
  {
   "cell_type": "code",
   "execution_count": 0,
   "metadata": {
    "colab": {},
    "colab_type": "code",
    "collapsed": true,
    "id": "i7s4-BBV3rqT"
   },
   "outputs": [],
   "source": [
    "for name, pages in sorted(list_of_names.items()):\n",
    "    print(name, \"(\" + pages + \")\" )"
   ]
  },
  {
   "cell_type": "markdown",
   "metadata": {
    "colab_type": "text",
    "collapsed": true,
    "id": "g_-sizHy3rqX"
   },
   "source": [
    "Once you know a name is _there_ then you can search for it [in the original document](https://qz-aistudio-public.s3.amazonaws.com/workshops/2018.05.24_BerlinRosen_Responsive_Records_100pgs.pdf)."
   ]
  },
  {
   "cell_type": "markdown",
   "metadata": {
    "colab_type": "text",
    "collapsed": true,
    "id": "QwfSW0zl3rqX"
   },
   "source": [
    "# Detecting Document Similarity with spaCy\n",
    "\n",
    "## The Data\n",
    "\n",
    "All of the data and the installations steps still apply.\n",
    "\n",
    "## Credits\n",
    "\n",
    "I found [this Medium post super helpful](https://medium.com/better-programming/the-beginners-guide-to-similarity-matching-using-spacy-782fc2922f7c), and used some of the code described there."
   ]
  },
  {
   "cell_type": "markdown",
   "metadata": {
    "colab_type": "text",
    "id": "R6PrtHUp3rqY"
   },
   "source": [
    "## Code\n"
   ]
  },
  {
   "cell_type": "code",
   "execution_count": 0,
   "metadata": {
    "colab": {},
    "colab_type": "code",
    "collapsed": true,
    "id": "WeoUM5ce3rqZ"
   },
   "outputs": [],
   "source": [
    "# From https://medium.com/better-programming/the-beginners-guide-to-similarity-matching-using-spacy-782fc2922f7c\n",
    "\n",
    "def process_text(text):\n",
    "    doc = nlp(text.lower())\n",
    "    result = []\n",
    "    for token in doc:\n",
    "        if token.text in nlp.Defaults.stop_words:\n",
    "            continue\n",
    "        if token.is_punct:\n",
    "            continue\n",
    "        if token.lemma_ == '-PRON-':\n",
    "            continue\n",
    "        if \"$\" in token.text:\n",
    "            continue\n",
    "        if \"#\" in token.text:\n",
    "            continue\n",
    "        result.append(token.lemma_)\n",
    "    return \" \".join(result)"
   ]
  },
  {
   "cell_type": "code",
   "execution_count": 8,
   "metadata": {
    "colab": {
     "base_uri": "https://localhost:8080/",
     "height": 54
    },
    "colab_type": "code",
    "id": "6jPHEwtTBwBd",
    "outputId": "291af082-5114-4e14-eba8-a6c31a2944c3"
   },
   "outputs": [
    {
     "data": {
      "text/plain": [
       "'\\nJohn drove his Volkswagen Golf north on Interstate 35 to Duluth, Minnesota,\\nwhere he stopped at the Aerial Lift Bridge and looked out over\\nLake Superior. \\n'"
      ]
     },
     "execution_count": 8,
     "metadata": {
      "tags": []
     },
     "output_type": "execute_result"
    }
   ],
   "source": [
    "my_story"
   ]
  },
  {
   "cell_type": "code",
   "execution_count": 13,
   "metadata": {
    "colab": {
     "base_uri": "https://localhost:8080/",
     "height": 34
    },
    "colab_type": "code",
    "id": "Zk9t55NaB3rN",
    "outputId": "250f9c3e-9f8f-439e-c5ff-317585c59e05"
   },
   "outputs": [
    {
     "data": {
      "text/plain": [
       "'\\n john drive volkswagen golf north interstate 35 duluth minnesota \\n stop aerial lift bridge look \\n lake superior \\n'"
      ]
     },
     "execution_count": 13,
     "metadata": {
      "tags": []
     },
     "output_type": "execute_result"
    }
   ],
   "source": [
    "my_story_cleaned = process_text(my_story)\n",
    "my_story_cleaned"
   ]
  },
  {
   "cell_type": "code",
   "execution_count": 0,
   "metadata": {
    "colab": {},
    "colab_type": "code",
    "collapsed": true,
    "id": "emOx1dRj5YIg"
   },
   "outputs": [],
   "source": [
    "doc = nlp(my_story_cleaned)"
   ]
  },
  {
   "cell_type": "code",
   "execution_count": 15,
   "metadata": {
    "colab": {
     "base_uri": "https://localhost:8080/",
     "height": 1000
    },
    "colab_type": "code",
    "id": "xQpM8nU_5eVA",
    "outputId": "a1d4c6f3-897b-4fea-cffa-382edfb9e7ae"
   },
   "outputs": [
    {
     "name": "stdout",
     "output_type": "stream",
     "text": [
      "[ 1.01778105e-01  2.05319315e-01  6.73728958e-02 -2.20699400e-01\n",
      "  3.70768964e-01  6.27897680e-05  1.58605985e-02  5.98380081e-02\n",
      "  5.01086004e-02  1.24153340e+00 -2.20715478e-01 -1.25634655e-01\n",
      "  6.20462485e-02 -3.26115526e-02 -2.36044571e-01 -9.01962072e-02\n",
      " -1.12321198e-01  1.00773060e+00 -3.90413441e-02 -1.21259749e-01\n",
      "  5.85537739e-02 -4.95426506e-02  1.21275544e-01 -7.99641535e-02\n",
      "  5.94000928e-02  4.94726002e-02 -9.45585519e-02 -3.74344997e-02\n",
      " -4.61814478e-02  2.42259949e-01 -1.78351998e-02  8.88676420e-02\n",
      " -5.56827560e-02  2.93218531e-02  5.01873977e-02 -8.63832012e-02\n",
      "  5.04705422e-02 -7.31010512e-02 -6.32342547e-02  7.33639747e-02\n",
      " -6.43608570e-02 -6.48629516e-02  3.13216262e-02  1.23825409e-01\n",
      "  6.50239736e-03 -1.29929511e-02 -5.02037182e-02  2.12189499e-02\n",
      " -2.44025476e-02  8.08378980e-02  1.77441575e-02  3.86951454e-02\n",
      "  1.16834000e-01 -8.08318425e-03  9.68424574e-05  2.53466014e-02\n",
      " -8.64771307e-02  1.10955402e-01  7.95033649e-02  3.20553035e-02\n",
      " -2.00200111e-01 -1.56275388e-02  7.49616846e-02  2.12727904e-01\n",
      "  6.28693327e-02  6.88719973e-02 -8.11046883e-02  1.49482666e-02\n",
      " -4.52887490e-02 -9.71779674e-02 -1.19707026e-01  4.59104814e-02\n",
      "  1.55093104e-01 -4.06404510e-02  5.17143831e-02 -1.05716959e-02\n",
      " -1.51125506e-01  7.92078227e-02 -3.19047458e-02  7.13780001e-02\n",
      "  8.54991525e-02  1.16992332e-01  1.32362381e-01  1.08445249e-01\n",
      " -1.38153015e-02  5.20589948e-03  3.96012932e-01  3.62161398e-01\n",
      " -4.19332981e-02  1.74440001e-03 -1.34117633e-01  2.45761517e-02\n",
      " -1.20742843e-01 -2.56965131e-01  3.77621539e-02 -2.23075002e-02\n",
      "  1.04327045e-01 -2.05628928e-02  1.02733396e-01 -5.01209609e-02\n",
      " -9.26919505e-02  1.94354658e-03 -8.07333812e-02  9.81138125e-02\n",
      " -1.04948595e-01 -7.21499562e-01  1.74712807e-01  1.82598010e-02\n",
      " -2.46384498e-02 -8.09460506e-02  1.52607411e-01  4.99083027e-02\n",
      "  1.53699115e-01 -1.48743182e-01  7.49584511e-02 -1.19911157e-01\n",
      "  2.45277613e-01 -5.62784001e-02 -1.43314004e-01  3.45411971e-02\n",
      "  1.31537005e-01  1.82328239e-01 -2.59885341e-02 -2.18446761e-01\n",
      " -2.03593411e-02 -5.18463962e-02  4.11786512e-02  4.70252037e-02\n",
      " -1.26946792e-01  7.40332454e-02 -3.13601010e-02 -1.98160693e-01\n",
      " -1.34877801e-01 -1.42781898e-01  2.59290002e-02 -8.46541896e-02\n",
      " -1.65026523e-02 -1.95906665e-02  7.81898969e-04 -1.49821550e-01\n",
      " -8.52258980e-01 -1.06766094e-02  1.59130126e-01 -1.24895491e-01\n",
      "  8.63433108e-02  6.47636577e-02  6.67751282e-02 -8.27059373e-02\n",
      "  1.26688957e-01 -1.12465538e-01 -1.25600740e-01 -1.08191215e-01\n",
      " -1.78277403e-01 -1.17842183e-01  2.07119025e-02 -1.41279951e-01\n",
      " -5.76204062e-02  4.92696464e-02 -7.19413906e-02  1.19347192e-01\n",
      "  1.84174225e-01  1.58254837e-03 -8.16624984e-02  1.19500600e-01\n",
      "  2.57136881e-01  6.32019620e-03 -1.76784202e-01  1.74255017e-02\n",
      "  9.29888636e-02  1.26355529e-01  4.72787544e-02  9.70622972e-02\n",
      " -2.02126473e-01  3.97324935e-02  4.76774499e-02 -1.29947662e-01\n",
      " -3.99570772e-03  5.19195870e-02  1.21438965e-01  8.84209946e-02\n",
      " -1.36087701e-01  1.35285810e-01 -1.41438544e-01 -2.44807806e-02\n",
      "  4.33534607e-02  4.49541099e-02  2.80043185e-02 -9.33154896e-02\n",
      " -3.57103981e-02  7.77302906e-02  1.11362398e-01 -5.51710427e-02\n",
      "  1.54239744e-01 -3.73621434e-02 -1.57770157e-01  4.39622700e-02\n",
      "  6.77000964e-03 -1.25589386e-01  8.27552527e-02  1.26175899e-02\n",
      "  1.62733514e-02 -2.33373530e-02  3.96055588e-03 -7.71749467e-02\n",
      " -9.01351422e-02  1.29202995e-02 -1.08692003e-02 -1.56411026e-02\n",
      "  2.12403655e-01 -1.02316916e-01 -5.35167530e-02  4.56926227e-03\n",
      "  1.56406686e-01  1.38840705e-01 -8.41244310e-02  1.02625392e-01\n",
      " -1.13420799e-01  2.17338517e-01  1.37847289e-01  8.75131115e-02\n",
      "  6.19860068e-02 -3.33506577e-02 -2.49052998e-02  1.41821606e-02\n",
      "  5.45347948e-03 -4.07210318e-03 -7.62650967e-02  7.87052736e-02\n",
      "  2.24720482e-02  8.13096538e-02  2.86974963e-02  3.82717550e-02\n",
      "  1.75993547e-01 -4.03385349e-02 -2.90925894e-02  2.28094496e-02\n",
      "  1.44609064e-01 -3.20167467e-02 -1.80507824e-02  2.40464404e-01\n",
      "  7.50456452e-02 -1.10216007e-01  9.96885523e-02  3.39337997e-02\n",
      " -1.35128051e-01 -5.06030247e-02  2.51356475e-02  1.09930381e-01\n",
      " -6.87960237e-02 -1.71836048e-01  5.41176498e-02 -9.00636017e-02\n",
      "  1.42923504e-01  5.39178774e-02 -4.99963984e-02  2.53780425e-01\n",
      " -1.57437045e-02 -3.14480737e-02  4.05149534e-02 -1.27687454e-01\n",
      "  1.87393248e-01 -7.05044419e-02  2.61812925e-01 -2.02416137e-01\n",
      "  6.38789982e-02 -3.09947401e-01 -2.60711499e-02  5.67327738e-02\n",
      " -3.23973596e-01  1.07819401e-01 -1.84626907e-01  5.68535104e-02\n",
      " -1.54714016e-02  9.41401049e-02  1.64100602e-01  1.09538600e-01\n",
      "  9.93977562e-02 -2.02851743e-01 -5.21627478e-02 -2.45053053e-01\n",
      " -1.06257595e-01 -1.04700565e-01 -1.32740885e-01  1.77637547e-01\n",
      "  1.22546386e-02 -1.83775984e-02 -2.04093494e-02 -9.07681808e-02\n",
      "  2.35547535e-02 -8.73861462e-02 -1.75689906e-01  3.64863500e-02\n",
      " -1.63607262e-02 -1.21893607e-01 -8.98296945e-03 -1.22080997e-01\n",
      "  4.72511128e-02 -3.91920507e-02 -3.59346643e-02  5.28766599e-04]\n"
     ]
    }
   ],
   "source": [
    "print(doc.vector)"
   ]
  },
  {
   "cell_type": "code",
   "execution_count": 0,
   "metadata": {
    "colab": {},
    "colab_type": "code",
    "collapsed": true,
    "id": "ndVnRiEU5g9-"
   },
   "outputs": [],
   "source": []
  },
  {
   "cell_type": "code",
   "execution_count": 0,
   "metadata": {
    "colab": {},
    "colab_type": "code",
    "collapsed": true,
    "id": "tMZfgkTL3rqc"
   },
   "outputs": [],
   "source": [
    "list_of_vectors = []\n",
    "list_of_text = []\n",
    "\n",
    "with open(jsonl_file, 'r') as f:        # open the jsonl file\n",
    "    for line in f:                      # loop through each line ...\n",
    "        line = json.loads(line)            # read the line \n",
    "        text = line[\"_source\"][\"content\"]  # grab the text of the email\n",
    "        cleaned_text = process_text(text)  # clean up the text\n",
    "        doc = nlp(cleaned_text)            # load the text into the nlp model\n",
    "        list_of_vectors.append(doc.vector)\n",
    "        list_of_text.append(line)\n",
    "        print(cleaned_text)\n",
    "        print(\"---\")"
   ]
  },
  {
   "cell_type": "code",
   "execution_count": 0,
   "metadata": {
    "colab": {},
    "colab_type": "code",
    "collapsed": true,
    "id": "4XEbCvdKHH46"
   },
   "outputs": [],
   "source": [
    "import numpy as np\n",
    "from sklearn.metrics.pairwise import cosine_similarity"
   ]
  },
  {
   "cell_type": "code",
   "execution_count": 29,
   "metadata": {
    "colab": {
     "base_uri": "https://localhost:8080/",
     "height": 70
    },
    "colab_type": "code",
    "id": "BGGJ3MaOHSho",
    "outputId": "5825f629-7e44-4978-81ce-bdc98ad0292f"
   },
   "outputs": [
    {
     "data": {
      "text/plain": [
       "{'_id': 'p1',\n",
       " '_source': {'content': '  THE CITY OF NEW YORK\\n OFFICE OF THE MAYOR\\n NEW YORK, NY 10007\\n  May \\n24, 2018  Dear \\nRequester\\n,  This letter is in\\n response to \\nprevious \\nrequest\\ns pursuant to the Freedom of Information Law \\nreceived\\n by this Office, seeking\\n generally\\n  Correspondence between \\nthe Office of the Mayor and \\nJonathan Rosen or \\nBerlinRosen.\\n  Due to the number of FOIL requests the MayorÕs Office has received for similar \\ncommunications, as a courtesy the documents being disclosed to you today include materials that \\nare outside the scope\\n of your requests.\\n !The responsive records comprise four volumes of material:\\n A. Pages 3\\n-729: Material previously \\nwithheld in full or in part\\n pursuant to the inter\\n-agency \\nexemption \\n¤87(2\\n)(g) within the time range. This volume also includes 73 pages of \\nmateria\\nl previously withheld in full pursuant to \\n¤87(2\\n)(b).\\n  Range: January 1, 2014 to April 3, 2015.\\n B. Pages 730\\n-2844: Material previously \\nproduced\\n in full or in part, \\nor \\nwithheld\\n in full. \\n  Range: April 4, 2015 to Dec 31, 2016.\\n C. Pages 2845\\n-4016: Material responsive \\nto requests not yet fulfilled, and thus not produced \\npreviously.\\n  Range: January 1, 2017 to Dec 31, 2017.\\n D. Pages 4017\\n-4247: Material sent to a large number of recipients.\\n  Range:\\n April 4, 2015 to Dec 31, 2016\\n  Please note that some responsive material \\nis redacted in part pursuant to Public Officers Law \\n¤87(2\\n)(b). \\nSome \\nschedules\\n have been redacted pursuant to \\nPublic Officers Law ¤87(2)\\n(b); t\\nhese \\nredactions consist of \\npersonal appointments\\n or \\nprivate\\n information\\n. Please also note that some \\nresponsive materia\\nl has been redacted in part pursuant to \\n¤87(2\\n)(f). \\n  '}}"
      ]
     },
     "execution_count": 29,
     "metadata": {
      "tags": []
     },
     "output_type": "execute_result"
    }
   ],
   "source": [
    "list_of_text[0]"
   ]
  },
  {
   "cell_type": "code",
   "execution_count": 30,
   "metadata": {
    "colab": {
     "base_uri": "https://localhost:8080/",
     "height": 70
    },
    "colab_type": "code",
    "id": "grwlfWEOJXl4",
    "outputId": "1bf7eea1-44ea-44c8-c461-bee10120078f"
   },
   "outputs": [
    {
     "data": {
      "text/plain": [
       "{'_id': 'p97',\n",
       " '_source': {'content': 'acai bowl master class sooday, september 7 á 9:30 am sweetgreen nomad sunset yoga tuesday, september 9 á 7:00pm pier 25 Want to receive passport alerts for a different region? Update your preferences. august passport copyright© 2014 sweetgreen 829 7th st nw washington. de 20001 unsubscribe 1 view in browser '}}"
      ]
     },
     "execution_count": 30,
     "metadata": {
      "tags": []
     },
     "output_type": "execute_result"
    }
   ],
   "source": [
    "list_of_text[96]"
   ]
  },
  {
   "cell_type": "code",
   "execution_count": 37,
   "metadata": {
    "colab": {
     "base_uri": "https://localhost:8080/",
     "height": 34
    },
    "colab_type": "code",
    "id": "y5sippVjMOTh",
    "outputId": "68d3d61d-9464-4253-d01e-ae86e5f65ea5"
   },
   "outputs": [
    {
     "data": {
      "text/plain": [
       "(300,)"
      ]
     },
     "execution_count": 37,
     "metadata": {
      "tags": []
     },
     "output_type": "execute_result"
    }
   ],
   "source": [
    "list_of_vectors[96].shape"
   ]
  },
  {
   "cell_type": "code",
   "execution_count": 35,
   "metadata": {
    "colab": {
     "base_uri": "https://localhost:8080/",
     "height": 370
    },
    "colab_type": "code",
    "id": "x7Nr5UXKKT7D",
    "outputId": "03533562-af84-4d08-cd98-c8d50caed189"
   },
   "outputs": [
    {
     "data": {
      "text/plain": [
       "array([[0.72411454, 0.5992696 , 0.74719894, 0.77367425, 0.6525796 ,\n",
       "        0.7291043 , 0.37880737, 0.73526955, 0.68038476, 0.6802126 ,\n",
       "        0.72070014, 0.6816759 , 0.77796584, 0.7404872 , 0.79079974,\n",
       "        0.70257735, 0.5037015 , 0.7428045 , 0.7713428 , 0.7088518 ,\n",
       "        0.48074597, 0.78784287, 0.74586225, 0.42302385, 0.52736354,\n",
       "        0.79586506, 0.37276882, 0.        , 0.        , 0.81597537,\n",
       "        0.55032504, 0.7607349 , 0.77962303, 0.5618724 , 0.31616932,\n",
       "        0.31600136, 0.7805393 , 0.6916374 , 0.6909097 , 0.6975071 ,\n",
       "        0.72139496, 0.7090056 , 0.7369091 , 0.753876  , 0.74646807,\n",
       "        0.7297063 , 0.64439297, 0.52973866, 0.747718  , 0.6919215 ,\n",
       "        0.5654484 , 0.42426598, 0.7491683 , 0.6675257 , 0.6792298 ,\n",
       "        0.7851023 , 0.        , 0.6576525 , 0.7488511 , 0.6674544 ,\n",
       "        0.5199123 , 0.        , 0.        , 0.        , 0.7771566 ,\n",
       "        0.4403249 , 0.5913658 , 0.7201503 , 0.73884267, 0.        ,\n",
       "        0.75180197, 0.69269425, 0.6223636 , 0.7011788 , 0.50174177,\n",
       "        0.5830522 , 0.764026  , 0.5231504 , 0.7538892 , 0.50853395,\n",
       "        0.3166692 , 0.74016607, 0.71368223, 0.6116658 , 0.78203523,\n",
       "        0.64830613, 0.7075648 , 0.59267735, 0.78551155, 0.6705334 ,\n",
       "        0.636808  , 0.67297596, 0.        , 0.7590696 , 0.75945467,\n",
       "        0.75549775, 1.0000004 , 0.6946121 , 0.7236998 , 0.9163209 ]],\n",
       "      dtype=float32)"
      ]
     },
     "execution_count": 35,
     "metadata": {
      "tags": []
     },
     "output_type": "execute_result"
    }
   ],
   "source": [
    "single_item = list_of_vectors[96].reshape(1,300)\n",
    "all_items = np.array(list_of_vectors)\n",
    "similarities = cosine_similarity(single_item, list_of_vectors, dense_output=False)\n",
    "similarities"
   ]
  },
  {
   "cell_type": "code",
   "execution_count": 39,
   "metadata": {
    "colab": {
     "base_uri": "https://localhost:8080/",
     "height": 34
    },
    "colab_type": "code",
    "id": "1Z9nogI0MaKU",
    "outputId": "618acf68-35e4-42b4-ee12-6c69b8999020"
   },
   "outputs": [
    {
     "name": "stdout",
     "output_type": "stream",
     "text": [
      "[96 99 29 25]\n"
     ]
    }
   ],
   "source": [
    "related_docs_indices = similarities[0].argsort()[:-5:-1]\n",
    "print (related_docs_indices)"
   ]
  },
  {
   "cell_type": "code",
   "execution_count": 41,
   "metadata": {
    "colab": {
     "base_uri": "https://localhost:8080/",
     "height": 70
    },
    "colab_type": "code",
    "id": "dls7OyJkMgn0",
    "outputId": "e5144a1d-eb9b-4e7d-e902-b228d2edd6c9"
   },
   "outputs": [
    {
     "data": {
      "text/plain": [
       "{'_id': 'p30',\n",
       " '_source': {'content': 'From: To: Cc: Jonathan Rosen Drew. Chloe Hatch. Peter Subject: Re: Favor/totally fine if no Date: Wednesday, January 29, 2014 10:23:50 AM Thanks much. Sent from my iPhone On Jan 29, 2014, at 9:11AM, \"Drew, Chloe\" <CDrew@cicyhall.nyc.gov> wrote: Of course and done! From: Jonathan Rosen [ \\nmailto:Jonathan@berlinrosen.com] Sent: Tuesday, January 28, 2014 12:42 PM To: Drew, Chloe; Hatch, Peter Subject: FW: Favor/totally fine if no Could you pass this to the new commissioner. She is actually quite a person. colleague here at BR who worked on the campaign. From: Ben Wyskida Sent: Tuesday, January 28, 2014 12:11 PM To: Jonathan Rosen Subject: Fwd: Favor/totally fine if no and would be a get. Ben is my on? She\\'s a winner from what I know --, has a ton of experience, ve1y committed. Begin f01warded message: From: Date: anuruy at To: Ben Wyskida -.> Subject: Favor/totally fine if no Hi Ben, DYCD has posted a job I\\'m super interested in -Director of Commlmity Pruinerships and Outreach ( httpá Uwww nyc govlbtmlldycdldownloads/pdf/Employment/employment-141 695 pdf) -andlbut I have on good authority that unless a candidate is routed through the Mayor\\'s Office, s/he is beyond a longshot for consideration. Would you be willing to pass along my ? I lik á á b \\'ld b th my ! ¥¥ '}}"
      ]
     },
     "execution_count": 41,
     "metadata": {
      "tags": []
     },
     "output_type": "execute_result"
    }
   ],
   "source": [
    "list_of_text[29]"
   ]
  },
  {
   "cell_type": "code",
   "execution_count": 43,
   "metadata": {
    "colab": {
     "base_uri": "https://localhost:8080/",
     "height": 34
    },
    "colab_type": "code",
    "id": "c8Dq3AYHMsaG",
    "outputId": "a7aa16b4-b87a-4bfa-ced4-bab1d6f5e096"
   },
   "outputs": [
    {
     "name": "stdout",
     "output_type": "stream",
     "text": [
      "[1.0000004  0.9163209  0.81597537 0.79586506]\n"
     ]
    }
   ],
   "source": [
    "# and here we print out the actual values\n",
    "print (similarities[0, related_docs_indices])"
   ]
  },
  {
   "cell_type": "code",
   "execution_count": 0,
   "metadata": {
    "colab": {},
    "colab_type": "code",
    "collapsed": true,
    "id": "nH7-2mrCM9lF"
   },
   "outputs": [],
   "source": []
  }
 ],
 "metadata": {
  "colab": {
   "name": "ii-extracting-entities-plus-similarity-spacy.ipynb",
   "provenance": []
  },
  "kernelspec": {
   "display_name": "Python 3",
   "language": "python",
   "name": "python3"
  },
  "language_info": {
   "codemirror_mode": {
    "name": "ipython",
    "version": 3
   },
   "file_extension": ".py",
   "mimetype": "text/x-python",
   "name": "python",
   "nbconvert_exporter": "python",
   "pygments_lexer": "ipython3",
   "version": "3.6.1"
  }
 },
 "nbformat": 4,
 "nbformat_minor": 1
}
