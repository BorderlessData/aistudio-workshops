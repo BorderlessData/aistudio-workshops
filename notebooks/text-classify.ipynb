{
 "cells": [
  {
   "cell_type": "markdown",
   "metadata": {},
   "source": [
    "# Classify text using fast.ai\n",
    "\n",
    "This notebook will walk you through a simple example that trains a model to determine if there's a bicycle in an image and then use that to find bicycles in a video.\n",
    "\n",
    "This work is based on the early lessons in [Practical Deep Learning for Coders](https://course.fast.ai/), taught online by Jeremy Howard. I **highly** recommend this free online course.\n",
    "\n",
    "## Using this notebook\n",
    "\n",
    "Essentially you need a computer that's running a GPU running fast.ai. There are a few ways to do this without owning a computer with a GPU (I certainly don't). There are [lots of options](https://course.fast.ai/index.html). I like to use use [the Amazon EC2 setup](https://course.fast.ai/start_aws.html), which is probably the most complicated. In most of these cases, you'll just clone [the workshop repository](https://github.com/Quartz/aistudio-workshops) and get the notebook running.\n",
    "\n",
    "I'm also tailoring this notebook for use with [Google Colaboratory](https://colab.research.google.com), which as of this writing is the fastest, cheapest (free) way to get going.\n"
   ]
  },
  {
   "cell_type": "markdown",
   "metadata": {},
   "source": [
    "### If you're using Google Colaboratory ...\n",
    "\n",
    "Be aware that Google Colab instances are ephemeral -- they vanish *Poof* when you close them, or after a period of sitting idle (currently 90 minutes).\n",
    "\n",
    "There are great steps on the fast.ai site for [getting started with fast.ai an Google Colab](https://course.fast.ai/start_colab.html). \n",
    "\n",
    "Those instructions will show you how to save your own copy of this _notebook_ to Google Drive.\n",
    "\n",
    "They also tell you how to save a copy of your _data_ to Google Drive (Step 4), which is unneccesary for this workshop. "
   ]
  },
  {
   "cell_type": "code",
   "execution_count": null,
   "metadata": {},
   "outputs": [],
   "source": [
    "## ALL GOOGLE COLAB USERS RUN THIS CELL\n",
    "\n",
    "## This runs a script that installs fast.ai\n",
    "!curl -s https://course.fast.ai/setup/colab | bash"
   ]
  },
  {
   "cell_type": "markdown",
   "metadata": {},
   "source": [
    "### If you are _not_ using Google Colaboratory ...\n",
    "\n",
    "Run the cell below."
   ]
  },
  {
   "cell_type": "code",
   "execution_count": 6,
   "metadata": {},
   "outputs": [],
   "source": [
    "## NON-COLABORATORY USERS SHOULD RUN THIS CELL\n",
    "%reload_ext autoreload\n",
    "%autoreload 2\n",
    "%matplotlib inline"
   ]
  },
  {
   "cell_type": "markdown",
   "metadata": {},
   "source": [
    "### Everybody do this ..."
   ]
  },
  {
   "cell_type": "code",
   "execution_count": 7,
   "metadata": {},
   "outputs": [],
   "source": [
    "## AND *EVERYBODY* SHOULD RUN THIS CELL\n",
    "\n",
    "from fastai.text import *"
   ]
  },
  {
   "cell_type": "markdown",
   "metadata": {},
   "source": [
    "## The Plan\n",
    "\n",
    "Given a set of political Facebook ads, we want to sort them into three categories: fundraising, list-building, and persuasion.\n",
    "\n",
    "We're going to take a hand-coded set of 1,700 ads (which Jeremy B. Merrill coded on a long flight), and apply them to the larger Facebook ad database. As of this writing, that database has nearly 165,000 ads and clocks in about 3.2 GB. So for this class, as a proof of concept, we'll take a slice 5,000 ads.\n",
    "\n",
    "Our plan will be:\n",
    "\n",
    "- Download an English-language recognition **language model** pre-trained on Wikipedia articles\n",
    "- Further train that **language model** on the type of English we're working with, specifically the corpus of Facebook ads we have\n",
    "- Train a **classification model** on the difference between fundraising, list-building, and persuasion ads.\n",
    "- Use that **classification model** model to label the bigger group of ads"
   ]
  },
  {
   "cell_type": "markdown",
   "metadata": {},
   "source": [
    "## The Data"
   ]
  },
  {
   "cell_type": "markdown",
   "metadata": {},
   "source": [
    "Let's get the two data sets we'll be using: The hand-labeled set of 1,700 ads and the raw set of 5,000 ads."
   ]
  },
  {
   "cell_type": "code",
   "execution_count": 1,
   "metadata": {},
   "outputs": [
    {
     "name": "stdout",
     "output_type": "stream",
     "text": [
      "--2019-08-16 18:58:15--  https://qz-aistudio-public.s3.amazonaws.com/workshops/facebook_ad_data.zip\n",
      "Resolving qz-aistudio-public.s3.amazonaws.com (qz-aistudio-public.s3.amazonaws.com)... 52.216.206.211\n",
      "Connecting to qz-aistudio-public.s3.amazonaws.com (qz-aistudio-public.s3.amazonaws.com)|52.216.206.211|:443... connected.\n",
      "HTTP request sent, awaiting response... 200 OK\n",
      "Length: 7571822 (7.2M) [application/zip]\n",
      "Saving to: ‘facebook_ad_data.zip’\n",
      "\n",
      "facebook_ad_data.zi 100%[===================>]   7.22M  --.-KB/s    in 0.07s   \n",
      "\n",
      "2019-08-16 18:58:16 (108 MB/s) - ‘facebook_ad_data.zip’ saved [7571822/7571822]\n",
      "\n",
      "Done!\n"
     ]
    }
   ],
   "source": [
    "!wget -N https://qz-aistudio-public.s3.amazonaws.com/workshops/facebook_ad_data.zip\n",
    "!unzip facebook_ad_data.zip > /dev/null\n",
    "print('Done!')"
   ]
  },
  {
   "cell_type": "markdown",
   "metadata": {},
   "source": [
    "Now you have a subdirectory called `facebook_ad_data` which contains two files."
   ]
  },
  {
   "cell_type": "code",
   "execution_count": 4,
   "metadata": {},
   "outputs": [
    {
     "name": "stdout",
     "output_type": "stream",
     "text": [
      "ads_and_categories.csv  fbpac-ads-en-US-slice.csv\r\n"
     ]
    }
   ],
   "source": [
    "%ls facebook_ad_data"
   ]
  },
  {
   "cell_type": "markdown",
   "metadata": {},
   "source": [
    "Next we'll load the `ads_and_categories.csv` file into a structure called a \"data frame,\" which is a common way to handle large amounts of data in python."
   ]
  },
  {
   "cell_type": "code",
   "execution_count": 9,
   "metadata": {},
   "outputs": [],
   "source": [
    "hand_coded_ads = pd.read_csv('facebook_ad_data/ads_and_categories.csv')"
   ]
  },
  {
   "cell_type": "markdown",
   "metadata": {},
   "source": [
    "Let's take a peek!"
   ]
  },
  {
   "cell_type": "code",
   "execution_count": 11,
   "metadata": {},
   "outputs": [
    {
     "data": {
      "text/html": [
       "<div>\n",
       "<style scoped>\n",
       "    .dataframe tbody tr th:only-of-type {\n",
       "        vertical-align: middle;\n",
       "    }\n",
       "\n",
       "    .dataframe tbody tr th {\n",
       "        vertical-align: top;\n",
       "    }\n",
       "\n",
       "    .dataframe thead th {\n",
       "        text-align: right;\n",
       "    }\n",
       "</style>\n",
       "<table border=\"1\" class=\"dataframe\">\n",
       "  <thead>\n",
       "    <tr style=\"text-align: right;\">\n",
       "      <th></th>\n",
       "      <th>text</th>\n",
       "      <th>label</th>\n",
       "    </tr>\n",
       "  </thead>\n",
       "  <tbody>\n",
       "    <tr>\n",
       "      <th>0</th>\n",
       "      <td>National Trust for Historic Preservation Sp S ...</td>\n",
       "      <td>FUNDRAISING</td>\n",
       "    </tr>\n",
       "    <tr>\n",
       "      <th>1</th>\n",
       "      <td>Jan Schneider Sponsored  ⋅ Paid for by  Friend...</td>\n",
       "      <td>FUNDRAISING</td>\n",
       "    </tr>\n",
       "    <tr>\n",
       "      <th>2</th>\n",
       "      <td>Planned Parenthood Action Sponsored  ⋅ Paid fo...</td>\n",
       "      <td>FUNDRAISING</td>\n",
       "    </tr>\n",
       "    <tr>\n",
       "      <th>3</th>\n",
       "      <td>Suggested Post Josh Harder Sponsored  ⋅ Paid f...</td>\n",
       "      <td>FUNDRAISING</td>\n",
       "    </tr>\n",
       "    <tr>\n",
       "      <th>4</th>\n",
       "      <td>Mayor Philip Levine Sponsored  ⋅ Paid for by  ...</td>\n",
       "      <td>FUNDRAISING</td>\n",
       "    </tr>\n",
       "  </tbody>\n",
       "</table>\n",
       "</div>"
      ],
      "text/plain": [
       "                                                text        label\n",
       "0  National Trust for Historic Preservation Sp S ...  FUNDRAISING\n",
       "1  Jan Schneider Sponsored  ⋅ Paid for by  Friend...  FUNDRAISING\n",
       "2  Planned Parenthood Action Sponsored  ⋅ Paid fo...  FUNDRAISING\n",
       "3  Suggested Post Josh Harder Sponsored  ⋅ Paid f...  FUNDRAISING\n",
       "4  Mayor Philip Levine Sponsored  ⋅ Paid for by  ...  FUNDRAISING"
      ]
     },
     "execution_count": 11,
     "metadata": {},
     "output_type": "execute_result"
    }
   ],
   "source": [
    "hand_coded_ads.head()"
   ]
  },
  {
   "cell_type": "markdown",
   "metadata": {},
   "source": [
    "And let's load in the raw ads."
   ]
  },
  {
   "cell_type": "code",
   "execution_count": 12,
   "metadata": {},
   "outputs": [],
   "source": [
    "raw_ads = pd.read_csv('facebook_ad_data/fbpac-ads-en-US-slice.csv')"
   ]
  },
  {
   "cell_type": "code",
   "execution_count": 13,
   "metadata": {},
   "outputs": [
    {
     "data": {
      "text/html": [
       "<div>\n",
       "<style scoped>\n",
       "    .dataframe tbody tr th:only-of-type {\n",
       "        vertical-align: middle;\n",
       "    }\n",
       "\n",
       "    .dataframe tbody tr th {\n",
       "        vertical-align: top;\n",
       "    }\n",
       "\n",
       "    .dataframe thead th {\n",
       "        text-align: right;\n",
       "    }\n",
       "</style>\n",
       "<table border=\"1\" class=\"dataframe\">\n",
       "  <thead>\n",
       "    <tr style=\"text-align: right;\">\n",
       "      <th></th>\n",
       "      <th>6102213074570</th>\n",
       "      <th>&lt;div class=\"_5pcr userContentWrapper\"&gt;&lt;div class=\"_1dwg _1w_m _q7o\"&gt;&lt;div class=\"_4r_y\" id=\"u_fetchstream_16_k\"&gt;&lt;div class=\"_6a uiPopover _5pbi _cmw _b1e _1wbl\" id=\"u_fetchstream_16_l\"&gt;&lt;a class=\"_4xev _p\" href=\"nullblank\" id=\"u_fetchstream_16_n\"&gt;&lt;/a&gt;&lt;/div&gt;&lt;/div&gt;&lt;div&gt;&lt;div class=\"y_iap92bd8_ q_iap92heuk clearfix\"&gt;&lt;div class=\"clearfix u_iap92bbio\"&gt;&lt;a class=\"_5pb8 i_iap92heur _8o _8s lfloat _ohe\" data-hovercard=\"https://www.facebook.com/38471053686\" href=\"https://www.facebook.com/ElizabethWarren/\"&gt;&lt;div class=\"_38vo\"&gt;&lt;img class=\"_s0 _4ooo _5xib _5sq7 _44ma _rw img\" src=\"https://pp-facebook-ads.s3.amazonaws.com/v/t1.0-1/p80x80/34441200_10155774706728687_8710237734062522368_n.png\"&gt;&lt;/div&gt;&lt;/a&gt;&lt;div class=\"clearfix _42ef\"&gt;&lt;div class=\"rfloat _ohf\"&gt;&lt;/div&gt;&lt;div class=\"f_iap92bbiv\"&gt;&lt;div&gt;&lt;div class=\"_6a _5u5j\"&gt;&lt;div class=\"_6a _6b\"&gt;&lt;/div&gt;&lt;div class=\"_6a _5u5j _6b\"&gt;&lt;h5 class=\"_14f3 _14f5 _5pbw _5vra\" id=\"js_3qk\"&gt;&lt;span class=\"fwn fcg\"&gt;&lt;span class=\"fwb fcg\"&gt;&lt;a data-hovercard=\"https://www.facebook.com/38471053686\" href=\"https://www.facebook.com/ElizabethWarren/\"&gt;Elizabeth Warren&lt;/a&gt;&lt;/span&gt;&lt;/span&gt;&lt;/h5&gt;&lt;div&gt;&lt;a class=\"_5pcq\" href=\"nullblank\"&gt;&lt;span&gt;&lt;span class=\"_3nlk\"&gt;Sponsored&lt;/span&gt; ⋅ Paid for by &lt;span class=\"_3nlk\"&gt;Elizabeth for MA&lt;/span&gt;&lt;/span&gt;&lt;/a&gt;&lt;span&gt; · &lt;/span&gt;&lt;a class=\"uiStreamPrivacy inlineBlock fbStreamPrivacy fbPrivacyAudienceIndicator _5pcq\" href=\"nullblank\"&gt;&lt;i class=\"lock img sp_ks9jMipqQdl_1_5x sx_2780ca\"&gt;&lt;/i&gt;&lt;/a&gt;&lt;/div&gt;&lt;/div&gt;&lt;/div&gt;&lt;/div&gt;&lt;/div&gt;&lt;/div&gt;&lt;/div&gt;&lt;/div&gt;&lt;div class=\"_5pbx userContent _3576\" id=\"js_3ql\"&gt;&lt;p&gt;We made these stickers to celebrate people like you who have refused to back down as Trump and the GOP deliver one gut-punch after another to the working people across the country. Tell us where to send your FREE limited-edition PERSIST sticker and we'll put it right in the mail.&lt;/p&gt;&lt;/div&gt;&lt;div class=\"_3x-2\"&gt;&lt;div&gt;&lt;div class=\"mtm\"&gt;&lt;div class=\"_1ci8\"&gt;&lt;div class=\"_6m2 _1zpr clearfix _dcs _4_w4 _41u- _59ap _2bf7 _64lx _3eqz _20pq _3eqw _2rk1 _3n1j\" id=\"u_fetchstream_16_m\"&gt;&lt;div class=\"clearfix _2r3x\"&gt;&lt;div class=\"lfloat _ohe\"&gt;&lt;span class=\"_3m6-\"&gt;&lt;div class=\"_6ks\"&gt;&lt;a href=\"http://5061.xg4ken.com/media/redir.php\"&gt;&lt;div class=\"_6l- __c_\"&gt;&lt;div class=\"uiScaledImageContainer _6m5 fbStoryAttachmentImage\"&gt;&lt;img class=\"scaledImageFitWidth img\" src=\"https://pp-facebook-ads.s3.amazonaws.com/v/t45.1600-4/cp0/q90/c0.0.1200.627/s552x414/35451853_6102212225370_2445941908946550784_n.png.jpg\"&gt;&lt;/div&gt;&lt;/div&gt;&lt;/a&gt;&lt;/div&gt;&lt;div class=\"_3ekx _29_4\"&gt;&lt;div class=\"_44ae _651x\"&gt;&lt;div class=\"_6m3 _--6\"&gt;&lt;div class=\"_59tj _2iau\"&gt;&lt;div&gt;&lt;div class=\"_6lz _6mb _1t62 ellipsis\"&gt;elizabethwarren.com&lt;/div&gt;&lt;div class=\"\"&gt;&lt;/div&gt;&lt;/div&gt;&lt;/div&gt;&lt;div class=\"_3n1k\"&gt;&lt;div class=\"mbs _6m6 _2cnj _5s6c\"&gt;&lt;a href=\"http://5061.xg4ken.com/media/redir.php\"&gt;Get your free Persist sticker now.&lt;/a&gt;&lt;/div&gt;&lt;div class=\"_6m7 _3bt9\"&gt;These limited-edition stickers are fresh from the printer and you can bet they won't last long.&lt;/div&gt;&lt;/div&gt;&lt;/div&gt;&lt;div class=\"_44af _2e6-\"&gt;&lt;div class=\"_522u\"&gt;&lt;div class=\"_6a\"&gt;&lt;a class=\"_42ft _4jy0 _4jy4 _517h _51sy\" href=\"http://5061.xg4ken.com/media/redir.php\"&gt;Learn More&lt;/a&gt;&lt;/div&gt;&lt;/div&gt;&lt;/div&gt;&lt;/div&gt;&lt;a class=\"_52c6\" href=\"http://5061.xg4ken.com/media/redir.php\"&gt;&lt;/a&gt;&lt;/div&gt;&lt;/span&gt;&lt;/div&gt;&lt;div class=\"_42ef\"&gt;&lt;span class=\"_3c21\"&gt;&lt;/span&gt;&lt;/div&gt;&lt;/div&gt;&lt;/div&gt;&lt;div class=\"_4hk3\"&gt;&lt;div class=\"_34js _1kaa _34jv\" id=\"u_fetchstream_16_o\"&gt;&lt;div class=\"_34jx _2cpc _34ju\"&gt;&lt;div class=\"_34k0\"&gt;&lt;i class=\"_34k2\"&gt;&lt;/i&gt;&lt;/div&gt;&lt;div class=\"_34k3\"&gt;Paid for by Elizabeth for MA&lt;/div&gt;&lt;a class=\"_34k6\" href=\"nullblank\" id=\"u_fetchstream_16_p\"&gt;&lt;/a&gt;&lt;/div&gt;&lt;div class=\"_34jw\"&gt;&lt;/div&gt;&lt;/div&gt;&lt;div class=\"_1dp8\"&gt;&lt;/div&gt;&lt;/div&gt;&lt;/div&gt;&lt;/div&gt;&lt;/div&gt;&lt;/div&gt;&lt;div&gt;&lt;/div&gt;&lt;/div&gt;&lt;/div&gt;&lt;div&gt;&lt;/div&gt;&lt;/div&gt;</th>\n",
       "      <th>3</th>\n",
       "      <th>0</th>\n",
       "      <th>Elizabeth Warren</th>\n",
       "      <th>&lt;p&gt;We made these stickers to celebrate people like you who have refused to back down as Trump and the GOP deliver one gut-punch after another to the working people across the country. Tell us where to send your FREE limited-edition PERSIST sticker and we'll put it right in the mail.&lt;/p&gt;</th>\n",
       "      <th>https://pp-facebook-ads.s3.amazonaws.com/v/t1.0-1/p80x80/34441200_10155774706728687_8710237734062522368_n.png</th>\n",
       "      <th>2018-06-21 20:08:42.35098+00</th>\n",
       "      <th>2019-01-04 14:44:12.123412+00</th>\n",
       "      <th>en-US</th>\n",
       "      <th>...</th>\n",
       "      <th>f</th>\n",
       "      <th>[{\"target\": \"Age\", \"segment\": \"34 to 49\"}, {\"target\": \"MinAge\", \"segment\": \"34\"}, {\"target\": \"MaxAge\", \"segment\": \"49\"}, {\"target\": \"Region\", \"segment\": \"the United States\"}, {\"target\": \"Gender\", \"segment\": \"women\"}, {\"target\": \"List\"}]</th>\n",
       "      <th>Elizabeth Warren.1</th>\n",
       "      <th>[{\"entity\": \"FREE\", \"entity_type\": \"Organization\"}, {\"entity\": \"GOP\", \"entity_type\": \"Organization\"}, {\"entity\": \"PERSIST\", \"entity_type\": \"Organization\"}, {\"entity\": \"Trump and\", \"entity_type\": \"Organization\"}]</th>\n",
       "      <th>https://www.facebook.com/ElizabethWarren/</th>\n",
       "      <th>https://www.facebook.com/elizabethwarren/</th>\n",
       "      <th>{\"&lt;div&gt;&lt;div class=\\\"_4-i0 _26c5\\\"&gt;&lt;div class=\\\"clearfix\\\"&gt;&lt;div class=\\\"_51-u rfloat _ohf\\\"&gt;&lt;a class=\\\"_42ft _5upp _50zy layerCancel _51-t _50-0 _50z-\\\" href=\\\"nullblank\\\"&gt;Close&lt;/a&gt;&lt;/div&gt;&lt;div&gt;&lt;h3 id=\\\"u_5x_0\\\" class=\\\"_52c9\\\"&gt;About this Facebook ad&lt;/h3&gt;&lt;/div&gt;&lt;/div&gt;&lt;/div&gt;&lt;div class=\\\"_4-i2 _pig _4s3a _50f4\\\"&gt;&lt;div class=\\\"_4uov\\\"&gt;&lt;div class=\\\"_4uoz\\\"&gt;&lt;div id=\\\"u_5x_1\\\"&gt;&lt;/div&gt;&lt;div class=\\\"_3-8x\\\"&gt;&lt;span class=\\\"_4v6n\\\"&gt;&lt;div id=\\\"u_5x_2\\\"&gt;One reason you're seeing this ad is that &lt;b id=\\\"ad_prefs_advertiser\\\"&gt;Elizabeth Warren&lt;/b&gt; added you to a list of people they want to reach on Facebook. They were able to reach you because &lt;b id=\\\"ad_prefs_data_file\\\"&gt;you're on a customer list collected by Elizabeth Warren or its partners,&lt;/b&gt; or you've provided them with your contact information off of Facebook.&lt;/div&gt;&lt;/span&gt;&lt;div class=\\\"_4hcd\\\"&gt;&lt;span&gt;There may be other reasons why you're seeing this ad, including that Elizabeth Warren wants to reach &lt;b&gt;women aged 34 to 49 who live in the United States&lt;/b&gt;. This is information based on your Facebook profile and where you've connected to the Internet.&lt;/span&gt;&lt;/div&gt;&lt;/div&gt;&lt;/div&gt;&lt;div&gt;&lt;/div&gt;&lt;div class=\\\"_4uor _52jw\\\"&gt;&lt;div class=\\\"_5aj7\\\" id=\\\"u_5x_3\\\"&gt;&lt;div class=\\\"_4bl9\\\"&gt;&lt;/div&gt;&lt;div class=\\\"_4bl7 _5r7v\\\"&gt;&lt;i class=\\\"img sp_KkPK2i2wr3h_1_5x sx_2e7d05\\\"&gt;&lt;u&gt;gear&lt;/u&gt;&lt;/i&gt;&lt;/div&gt;&lt;div class=\\\"_4bl7\\\"&gt;&lt;a href=\\\"https://www.facebook.com/ads/preferences/\\\"&gt;Manage Your ad preferences&lt;/a&gt;&lt;/div&gt;&lt;/div&gt;&lt;/div&gt;&lt;div class=\\\"mhs _1ray _1ra- _4uos\\\"&gt;&lt;/div&gt;&lt;div class=\\\"_4uou\\\"&gt;&lt;div class=\\\"_26c6 _3es4 fsl fwb fcb\\\"&gt;Tell us what you think&lt;/div&gt;&lt;div&gt;&lt;div class=\\\"clearfix _ikh\\\" id=\\\"u_5x_4\\\"&gt;&lt;div class=\\\"_4bl7 _3es3\\\"&gt;Was this explanation useful?&lt;/div&gt;&lt;div class=\\\"_4bl7 _2pit\\\"&gt;&lt;a href=\\\"nullblank\\\" id=\\\"u_5x_5\\\"&gt;Yes&lt;/a&gt;&lt;/div&gt;&lt;div class=\\\"_4bl9 _2pit\\\"&gt;&lt;a href=\\\"nullblank\\\" id=\\\"u_5x_6\\\"&gt;No&lt;/a&gt;&lt;/div&gt;&lt;/div&gt;&lt;span class=\\\"hidden_elem _3es3\\\" id=\\\"u_5x_7\\\"&gt;Thanks for your rating.&lt;/span&gt;&lt;/div&gt;&lt;/div&gt;&lt;/div&gt;&lt;/div&gt;&lt;div class=\\\"_5lnf uiOverlayFooter _5a8u _4866\\\"&gt;&lt;table class=\\\"uiGrid _51mz uiOverlayFooterGrid\\\"&gt;&lt;tbody&gt;&lt;tr class=\\\"_51mx\\\"&gt;&lt;td class=\\\"_51m- prs uiOverlayFooterMessage\\\"&gt;&lt;a&gt;&lt;i class=\\\"_4868 img sp_lWDeTZIqYK9_1_5x sx_5cccfd\\\"&gt;&lt;u&gt;info&lt;/u&gt;&lt;/i&gt;&lt;span class=\\\"_4867\\\"&gt;Learn more about Facebook Ads&lt;/span&gt;&lt;/a&gt;&lt;/td&gt;&lt;td class=\\\"_51m- uiOverlayFooterButtons _51mw\\\"&gt;&lt;/td&gt;&lt;/tr&gt;&lt;/tbody&gt;&lt;/table&gt;&lt;/div&gt;&lt;/div&gt;\",\"&lt;div&gt;&lt;div class=\\\"_4-i0 _26c5\\\"&gt;&lt;div class=\\\"clearfix\\\"&gt;&lt;div class=\\\"_51-u rfloat _ohf\\\"&gt;&lt;a class=\\\"_42ft _5upp _50zy layerCancel _51-t _50-0 _50z-\\\" href=\\\"nullblank\\\"&gt;Close&lt;/a&gt;&lt;/div&gt;&lt;div&gt;&lt;h3 id=\\\"u_5x_0\\\" class=\\\"_52c9\\\"&gt;About this Facebook ad&lt;/h3&gt;&lt;/div&gt;&lt;/div&gt;&lt;/div&gt;&lt;div class=\\\"_4-i2 _pig _4s3a _50f4\\\"&gt;&lt;div class=\\\"_4uov\\\"&gt;&lt;div class=\\\"_4uoz\\\"&gt;&lt;div id=\\\"u_5x_1\\\"&gt;&lt;/div&gt;&lt;div class=\\\"_3-8x\\\"&gt;&lt;span class=\\\"_4v6n\\\"&gt;&lt;div id=\\\"u_5x_2\\\"&gt;One reason you're seeing this ad is that &lt;b id=\\\"ad_prefs_advertiser\\\"&gt;Elizabeth Warren&lt;/b&gt; added you to a list of people they want to reach on Facebook. They were able to reach you because &lt;b id=\\\"ad_prefs_data_file\\\"&gt;you're on a customer list collected by Elizabeth Warren or its partners,&lt;/b&gt; or you've provided them with your contact information off of Facebook.&lt;/div&gt;&lt;/span&gt;&lt;div class=\\\"_4hcd\\\"&gt;&lt;span&gt;There may be other reasons why you're seeing this ad, including that Elizabeth Warren wants to reach &lt;b&gt;women aged 34 to 49 who live in the United States&lt;/b&gt;. This is information based on your Facebook profile and where you've connected to the Internet.&lt;/span&gt;&lt;/div&gt;&lt;/div&gt;&lt;/div&gt;&lt;div&gt;&lt;/div&gt;&lt;div class=\\\"_4uor _52jw\\\"&gt;&lt;div class=\\\"_5aj7\\\" id=\\\"u_5x_3\\\"&gt;&lt;div class=\\\"_4bl9\\\"&gt;&lt;/div&gt;&lt;div class=\\\"_4bl7 _5r7v\\\"&gt;&lt;i class=\\\"img sp_KkPK2i2wr3h_1_5x sx_2e7d05\\\"&gt;&lt;u&gt;gear&lt;/u&gt;&lt;/i&gt;&lt;/div&gt;&lt;div class=\\\"_4bl7\\\"&gt;&lt;a href=\\\"https://www.facebook.com/ads/preferences/\\\"&gt;Manage Your ad preferences&lt;/a&gt;&lt;/div&gt;&lt;/div&gt;&lt;/div&gt;&lt;div class=\\\"mhs _1ray _1ra- _4uos\\\"&gt;&lt;/div&gt;&lt;div class=\\\"_4uou\\\"&gt;&lt;div class=\\\"_26c6 _3es4 fsl fwb fcb\\\"&gt;Tell us what you think&lt;/div&gt;&lt;div&gt;&lt;div class=\\\"clearfix _ikh\\\" id=\\\"u_5x_4\\\"&gt;&lt;div class=\\\"_4bl7 _3es3\\\"&gt;Was this explanation useful?&lt;/div&gt;&lt;div class=\\\"_4bl7 _2pit\\\"&gt;&lt;a href=\\\"nullblank\\\" id=\\\"u_5x_5\\\"&gt;Yes&lt;/a&gt;&lt;/div&gt;&lt;div class=\\\"_4bl9 _2pit\\\"&gt;&lt;a href=\\\"nullblank\\\" id=\\\"u_5x_6\\\"&gt;No&lt;/a&gt;&lt;/div&gt;&lt;/div&gt;&lt;span class=\\\"hidden_elem _3es3\\\" id=\\\"u_5x_7\\\"&gt;Thanks for your rating.&lt;/span&gt;&lt;/div&gt;&lt;/div&gt;&lt;/div&gt;&lt;/div&gt;&lt;div class=\\\"_5lnf uiOverlayFooter _5a8u _4866\\\"&gt;&lt;table class=\\\"uiGrid _51mz uiOverlayFooterGrid\\\"&gt;&lt;tbody&gt;&lt;tr class=\\\"_51mx\\\"&gt;&lt;td class=\\\"_51m- prs uiOverlayFooterMessage\\\"&gt;&lt;a&gt;&lt;i class=\\\"_4868 img sp_lWDeTZIqYK9_1_5x sx_5cccfd\\\"&gt;&lt;u&gt;info&lt;/u&gt;&lt;/i&gt;&lt;span class=\\\"_4867\\\"&gt;Learn more about Facebook Ads&lt;/span&gt;&lt;/a&gt;&lt;/td&gt;&lt;td class=\\\"_51m- uiOverlayFooterButtons _51mw\\\"&gt;&lt;/td&gt;&lt;/tr&gt;&lt;/tbody&gt;&lt;/table&gt;&lt;/div&gt;&lt;/div&gt;\",\"&lt;div&gt;&lt;div class=\\\"_4-i0 _26c5\\\"&gt;&lt;div class=\\\"clearfix\\\"&gt;&lt;div class=\\\"_51-u rfloat _ohf\\\"&gt;&lt;a class=\\\"_42ft _5upp _50zy layerCancel _51-t _50-0 _50z-\\\" href=\\\"nullblank\\\"&gt;Close&lt;/a&gt;&lt;/div&gt;&lt;div&gt;&lt;h3 id=\\\"u_5x_0\\\" class=\\\"_52c9\\\"&gt;About this Facebook ad&lt;/h3&gt;&lt;/div&gt;&lt;/div&gt;&lt;/div&gt;&lt;div class=\\\"_4-i2 _pig _4s3a _50f4\\\"&gt;&lt;div class=\\\"_4uov\\\"&gt;&lt;div class=\\\"_4uoz\\\"&gt;&lt;div id=\\\"u_5x_1\\\"&gt;&lt;/div&gt;&lt;div class=\\\"_3-8x\\\"&gt;&lt;span class=\\\"_4v6n\\\"&gt;&lt;div id=\\\"u_5x_2\\\"&gt;One reason you're seeing this ad is that &lt;b id=\\\"ad_prefs_advertiser\\\"&gt;Elizabeth Warren&lt;/b&gt; added you to a list of people they want to reach on Facebook. They were able to reach you because &lt;b id=\\\"ad_prefs_data_file\\\"&gt;you're on a customer list collected by Elizabeth Warren or its partners,&lt;/b&gt; or you've provided them with your contact information off of Facebook.&lt;/div&gt;&lt;/span&gt;&lt;div class=\\\"_4hcd\\\"&gt;&lt;span&gt;There may be other reasons why you're seeing this ad, including that Elizabeth Warren wants to reach &lt;b&gt;women aged 34 to 49 who live in the United States&lt;/b&gt;. This is information based on your Facebook profile and where you've connected to the Internet.&lt;/span&gt;&lt;/div&gt;&lt;/div&gt;&lt;/div&gt;&lt;div&gt;&lt;/div&gt;&lt;div class=\\\"_4uor _52jw\\\"&gt;&lt;div class=\\\"_5aj7\\\" id=\\\"u_5x_3\\\"&gt;&lt;div class=\\\"_4bl9\\\"&gt;&lt;/div&gt;&lt;div class=\\\"_4bl7 _5r7v\\\"&gt;&lt;i class=\\\"img sp_KkPK2i2wr3h_1_5x sx_2e7d05\\\"&gt;&lt;u&gt;gear&lt;/u&gt;&lt;/i&gt;&lt;/div&gt;&lt;div class=\\\"_4bl7\\\"&gt;&lt;a href=\\\"https://www.facebook.com/ads/preferences/\\\"&gt;Manage Your ad preferences&lt;/a&gt;&lt;/div&gt;&lt;/div&gt;&lt;/div&gt;&lt;div class=\\\"mhs _1ray _1ra- _4uos\\\"&gt;&lt;/div&gt;&lt;div class=\\\"_4uou\\\"&gt;&lt;div class=\\\"_26c6 _3es4 fsl fwb fcb\\\"&gt;Tell us what you think&lt;/div&gt;&lt;div&gt;&lt;div class=\\\"clearfix _ikh\\\" id=\\\"u_5x_4\\\"&gt;&lt;div class=\\\"_4bl7 _3es3\\\"&gt;Was this explanation useful?&lt;/div&gt;&lt;div class=\\\"_4bl7 _2pit\\\"&gt;&lt;a href=\\\"nullblank\\\" id=\\\"u_5x_5\\\"&gt;Yes&lt;/a&gt;&lt;/div&gt;&lt;div class=\\\"_4bl9 _2pit\\\"&gt;&lt;a href=\\\"nullblank\\\" id=\\\"u_5x_6\\\"&gt;No&lt;/a&gt;&lt;/div&gt;&lt;/div&gt;&lt;span class=\\\"hidden_elem _3es3\\\" id=\\\"u_5x_7\\\"&gt;Thanks for your rating.&lt;/span&gt;&lt;/div&gt;&lt;/div&gt;&lt;/div&gt;&lt;/div&gt;&lt;div class=\\\"_5lnf uiOverlayFooter _5a8u _4866\\\"&gt;&lt;table class=\\\"uiGrid _51mz uiOverlayFooterGrid\\\"&gt;&lt;tbody&gt;&lt;tr class=\\\"_51mx\\\"&gt;&lt;td class=\\\"_51m- prs uiOverlayFooterMessage\\\"&gt;&lt;a&gt;&lt;i class=\\\"_4868 img sp_lWDeTZIqYK9_1_5x sx_5cccfd\\\"&gt;&lt;u&gt;info&lt;/u&gt;&lt;/i&gt;&lt;span class=\\\"_4867\\\"&gt;Learn more about Facebook Ads&lt;/span&gt;&lt;/a&gt;&lt;/td&gt;&lt;td class=\\\"_51m- uiOverlayFooterButtons _51mw\\\"&gt;&lt;/td&gt;&lt;/tr&gt;&lt;/tbody&gt;&lt;/table&gt;&lt;/div&gt;&lt;/div&gt;\"}</th>\n",
       "      <th>Unnamed: 21</th>\n",
       "      <th>9</th>\n",
       "      <th>0.309519095346332</th>\n",
       "    </tr>\n",
       "  </thead>\n",
       "  <tbody>\n",
       "    <tr>\n",
       "      <th>0</th>\n",
       "      <td>23842898110640273</td>\n",
       "      <td>&lt;div class=\"_5pa- userContentWrapper\"&gt;&lt;div cla...</td>\n",
       "      <td>3</td>\n",
       "      <td>0</td>\n",
       "      <td>Shri Thanedar</td>\n",
       "      <td>&lt;p&gt;Vote for a Stronger, Smarter Michigan by Vo...</td>\n",
       "      <td>https://pp-facebook-ads.s3.amazonaws.com/v/t1....</td>\n",
       "      <td>2018-06-21 19:40:52.638102+00</td>\n",
       "      <td>2019-01-04 14:44:43.791667+00</td>\n",
       "      <td>en-US</td>\n",
       "      <td>...</td>\n",
       "      <td>f</td>\n",
       "      <td>[{\"target\": \"Age\", \"segment\": \"24 and older\"},...</td>\n",
       "      <td>Shri Thanedar</td>\n",
       "      <td>[{\"entity\": \"Voting\", \"entity_type\": \"Organiza...</td>\n",
       "      <td>https://www.facebook.com/ShriForMI/</td>\n",
       "      <td>https://www.facebook.com/shriformi/</td>\n",
       "      <td>{\"&lt;div&gt;&lt;div class=\\\"_4-i0 _26c5\\\"&gt;&lt;div class=\\...</td>\n",
       "      <td>NaN</td>\n",
       "      <td>4.0</td>\n",
       "      <td>0.245959</td>\n",
       "    </tr>\n",
       "    <tr>\n",
       "      <th>1</th>\n",
       "      <td>6092893255247</td>\n",
       "      <td>&lt;div class=\"_5pcr userContentWrapper\"&gt;&lt;div cla...</td>\n",
       "      <td>1</td>\n",
       "      <td>3</td>\n",
       "      <td>CARE</td>\n",
       "      <td>&lt;p&gt;No food. No water. No home. There are nearl...</td>\n",
       "      <td>https://pp-facebook-ads.s3.amazonaws.com/v/t1....</td>\n",
       "      <td>2018-05-22 20:00:11.678637+00</td>\n",
       "      <td>2018-05-23 18:27:58.596213+00</td>\n",
       "      <td>en-US</td>\n",
       "      <td>...</td>\n",
       "      <td>f</td>\n",
       "      <td>[{\"target\": \"Age\", \"segment\": \"35 and older\"},...</td>\n",
       "      <td>CARE</td>\n",
       "      <td>[]</td>\n",
       "      <td>https://www.facebook.com/carefans/</td>\n",
       "      <td>https://www.facebook.com/carefans/</td>\n",
       "      <td>{\"&lt;div&gt;&lt;div class=\\\"_4-i0 _26c5\\\"&gt;&lt;div class=\\...</td>\n",
       "      <td>NaN</td>\n",
       "      <td>4.0</td>\n",
       "      <td>0.999972</td>\n",
       "    </tr>\n",
       "    <tr>\n",
       "      <th>2</th>\n",
       "      <td>23842836266000723</td>\n",
       "      <td>&lt;div class=\"_5pcr userContentWrapper\"&gt;&lt;div cla...</td>\n",
       "      <td>3</td>\n",
       "      <td>0</td>\n",
       "      <td>MJ for Texas</td>\n",
       "      <td>&lt;p&gt;As a veteran of the U.S. Air Force, a mothe...</td>\n",
       "      <td>https://pp-facebook-ads.s3.amazonaws.com/v/t1....</td>\n",
       "      <td>2018-06-21 20:06:11.500505+00</td>\n",
       "      <td>2019-01-04 14:44:20.460757+00</td>\n",
       "      <td>en-US</td>\n",
       "      <td>...</td>\n",
       "      <td>f</td>\n",
       "      <td>[{\"target\": \"Age\", \"segment\": \"18 and older\"},...</td>\n",
       "      <td>MJ for Texas</td>\n",
       "      <td>[{\"entity\": \"Congress\", \"entity_type\": \"Organi...</td>\n",
       "      <td>https://www.facebook.com/MJforTexas/</td>\n",
       "      <td>https://www.facebook.com/mjfortexas/</td>\n",
       "      <td>{\"&lt;div&gt;&lt;div class=\\\"_4-i0 _26c5\\\"&gt;&lt;div class=\\...</td>\n",
       "      <td>NaN</td>\n",
       "      <td>2.0</td>\n",
       "      <td>1.000000</td>\n",
       "    </tr>\n",
       "    <tr>\n",
       "      <th>3</th>\n",
       "      <td>23843564908750215</td>\n",
       "      <td>&lt;div class=\"_5pcr userContentWrapper\"&gt;&lt;div cla...</td>\n",
       "      <td>0</td>\n",
       "      <td>0</td>\n",
       "      <td>AARP Medicare Supplement Plans, insured by Uni...</td>\n",
       "      <td>&lt;p&gt;Like this page for quick and healthy holida...</td>\n",
       "      <td>https://pp-facebook-ads.s3.amazonaws.com/v/t1....</td>\n",
       "      <td>2018-12-29 19:01:53.327363+00</td>\n",
       "      <td>2018-12-29 19:01:53.327363+00</td>\n",
       "      <td>en-US</td>\n",
       "      <td>...</td>\n",
       "      <td>f</td>\n",
       "      <td>[{\"target\": \"Interest\", \"segment\": \"AARP\"}, {\"...</td>\n",
       "      <td>AARP Medicare Supplement Plans, insured by Uni...</td>\n",
       "      <td>[]</td>\n",
       "      <td>https://www.facebook.com/AARPMedicareSupplement/</td>\n",
       "      <td>https://www.facebook.com/aarpmedicaresupplement/</td>\n",
       "      <td>{\"&lt;div&gt;&lt;div class=\\\"_4-i0 _26c5\\\"&gt;&lt;div class=\\...</td>\n",
       "      <td>UnitedHealthcare</td>\n",
       "      <td>5.0</td>\n",
       "      <td>NaN</td>\n",
       "    </tr>\n",
       "    <tr>\n",
       "      <th>4</th>\n",
       "      <td>23842858437190544</td>\n",
       "      <td>&lt;div class=\"_5pcr userContentWrapper\"&gt;&lt;div cla...</td>\n",
       "      <td>3</td>\n",
       "      <td>0</td>\n",
       "      <td>International Rescue Committee</td>\n",
       "      <td>&lt;p&gt;URGENT: President Trump’s executive order d...</td>\n",
       "      <td>https://pp-facebook-ads.s3.amazonaws.com/v/t1....</td>\n",
       "      <td>2018-06-21 20:06:11.46361+00</td>\n",
       "      <td>2019-01-04 14:44:22.044652+00</td>\n",
       "      <td>en-US</td>\n",
       "      <td>...</td>\n",
       "      <td>f</td>\n",
       "      <td>[{\"target\": \"Age\", \"segment\": \"18 and older\"},...</td>\n",
       "      <td>International Rescue Committee</td>\n",
       "      <td>[{\"entity\": \"Donald Trump\", \"entity_type\": \"Pe...</td>\n",
       "      <td>https://www.facebook.com/InternationalRescueCo...</td>\n",
       "      <td>https://www.facebook.com/internationalrescueco...</td>\n",
       "      <td>{\"&lt;div&gt;&lt;div class=\\\"_4-i0 _26c5\\\"&gt;&lt;div class=\\...</td>\n",
       "      <td>NaN</td>\n",
       "      <td>2.0</td>\n",
       "      <td>0.999903</td>\n",
       "    </tr>\n",
       "  </tbody>\n",
       "</table>\n",
       "<p>5 rows × 24 columns</p>\n",
       "</div>"
      ],
      "text/plain": [
       "       6102213074570  \\\n",
       "0  23842898110640273   \n",
       "1      6092893255247   \n",
       "2  23842836266000723   \n",
       "3  23843564908750215   \n",
       "4  23842858437190544   \n",
       "\n",
       "  <div class=\"_5pcr userContentWrapper\"><div class=\"_1dwg _1w_m _q7o\"><div class=\"_4r_y\" id=\"u_fetchstream_16_k\"><div class=\"_6a uiPopover _5pbi _cmw _b1e _1wbl\" id=\"u_fetchstream_16_l\"><a class=\"_4xev _p\" href=\"nullblank\" id=\"u_fetchstream_16_n\"></a></div></div><div><div class=\"y_iap92bd8_ q_iap92heuk clearfix\"><div class=\"clearfix u_iap92bbio\"><a class=\"_5pb8 i_iap92heur _8o _8s lfloat _ohe\" data-hovercard=\"https://www.facebook.com/38471053686\" href=\"https://www.facebook.com/ElizabethWarren/\"><div class=\"_38vo\"><img class=\"_s0 _4ooo _5xib _5sq7 _44ma _rw img\" src=\"https://pp-facebook-ads.s3.amazonaws.com/v/t1.0-1/p80x80/34441200_10155774706728687_8710237734062522368_n.png\"></div></a><div class=\"clearfix _42ef\"><div class=\"rfloat _ohf\"></div><div class=\"f_iap92bbiv\"><div><div class=\"_6a _5u5j\"><div class=\"_6a _6b\"></div><div class=\"_6a _5u5j _6b\"><h5 class=\"_14f3 _14f5 _5pbw _5vra\" id=\"js_3qk\"><span class=\"fwn fcg\"><span class=\"fwb fcg\"><a data-hovercard=\"https://www.facebook.com/38471053686\" href=\"https://www.facebook.com/ElizabethWarren/\">Elizabeth Warren</a></span></span></h5><div><a class=\"_5pcq\" href=\"nullblank\"><span><span class=\"_3nlk\">Sponsored</span> ⋅ Paid for by <span class=\"_3nlk\">Elizabeth for MA</span></span></a><span> · </span><a class=\"uiStreamPrivacy inlineBlock fbStreamPrivacy fbPrivacyAudienceIndicator _5pcq\" href=\"nullblank\"><i class=\"lock img sp_ks9jMipqQdl_1_5x sx_2780ca\"></i></a></div></div></div></div></div></div></div></div><div class=\"_5pbx userContent _3576\" id=\"js_3ql\"><p>We made these stickers to celebrate people like you who have refused to back down as Trump and the GOP deliver one gut-punch after another to the working people across the country. Tell us where to send your FREE limited-edition PERSIST sticker and we'll put it right in the mail.</p></div><div class=\"_3x-2\"><div><div class=\"mtm\"><div class=\"_1ci8\"><div class=\"_6m2 _1zpr clearfix _dcs _4_w4 _41u- _59ap _2bf7 _64lx _3eqz _20pq _3eqw _2rk1 _3n1j\" id=\"u_fetchstream_16_m\"><div class=\"clearfix _2r3x\"><div class=\"lfloat _ohe\"><span class=\"_3m6-\"><div class=\"_6ks\"><a href=\"http://5061.xg4ken.com/media/redir.php\"><div class=\"_6l- __c_\"><div class=\"uiScaledImageContainer _6m5 fbStoryAttachmentImage\"><img class=\"scaledImageFitWidth img\" src=\"https://pp-facebook-ads.s3.amazonaws.com/v/t45.1600-4/cp0/q90/c0.0.1200.627/s552x414/35451853_6102212225370_2445941908946550784_n.png.jpg\"></div></div></a></div><div class=\"_3ekx _29_4\"><div class=\"_44ae _651x\"><div class=\"_6m3 _--6\"><div class=\"_59tj _2iau\"><div><div class=\"_6lz _6mb _1t62 ellipsis\">elizabethwarren.com</div><div class=\"\"></div></div></div><div class=\"_3n1k\"><div class=\"mbs _6m6 _2cnj _5s6c\"><a href=\"http://5061.xg4ken.com/media/redir.php\">Get your free Persist sticker now.</a></div><div class=\"_6m7 _3bt9\">These limited-edition stickers are fresh from the printer and you can bet they won't last long.</div></div></div><div class=\"_44af _2e6-\"><div class=\"_522u\"><div class=\"_6a\"><a class=\"_42ft _4jy0 _4jy4 _517h _51sy\" href=\"http://5061.xg4ken.com/media/redir.php\">Learn More</a></div></div></div></div><a class=\"_52c6\" href=\"http://5061.xg4ken.com/media/redir.php\"></a></div></span></div><div class=\"_42ef\"><span class=\"_3c21\"></span></div></div></div><div class=\"_4hk3\"><div class=\"_34js _1kaa _34jv\" id=\"u_fetchstream_16_o\"><div class=\"_34jx _2cpc _34ju\"><div class=\"_34k0\"><i class=\"_34k2\"></i></div><div class=\"_34k3\">Paid for by Elizabeth for MA</div><a class=\"_34k6\" href=\"nullblank\" id=\"u_fetchstream_16_p\"></a></div><div class=\"_34jw\"></div></div><div class=\"_1dp8\"></div></div></div></div></div></div><div></div></div></div><div></div></div>  \\\n",
       "0  <div class=\"_5pa- userContentWrapper\"><div cla...                                                                                                                                                                                                                                                                                                                                                                                                                                                                                                                                                                                                                                                                                                                                                                                                                                                                                                                                                                                                                                                                                                                                                                                                                                                                                                                                                                                                                                                                                                                                                                                                                                                                                                                                                                                                                                                                                                                                                                                                                                                                                                                                                                                                                                                                                                                                                                                                                                                                                                                                                                                                                                                                                                                                                                                                                                                                                                                                                                                                                                                                                                                                                                                                                                                                                                                                                                                                                                                                                                                                                                                                                                                                                                                                          \n",
       "1  <div class=\"_5pcr userContentWrapper\"><div cla...                                                                                                                                                                                                                                                                                                                                                                                                                                                                                                                                                                                                                                                                                                                                                                                                                                                                                                                                                                                                                                                                                                                                                                                                                                                                                                                                                                                                                                                                                                                                                                                                                                                                                                                                                                                                                                                                                                                                                                                                                                                                                                                                                                                                                                                                                                                                                                                                                                                                                                                                                                                                                                                                                                                                                                                                                                                                                                                                                                                                                                                                                                                                                                                                                                                                                                                                                                                                                                                                                                                                                                                                                                                                                                                                          \n",
       "2  <div class=\"_5pcr userContentWrapper\"><div cla...                                                                                                                                                                                                                                                                                                                                                                                                                                                                                                                                                                                                                                                                                                                                                                                                                                                                                                                                                                                                                                                                                                                                                                                                                                                                                                                                                                                                                                                                                                                                                                                                                                                                                                                                                                                                                                                                                                                                                                                                                                                                                                                                                                                                                                                                                                                                                                                                                                                                                                                                                                                                                                                                                                                                                                                                                                                                                                                                                                                                                                                                                                                                                                                                                                                                                                                                                                                                                                                                                                                                                                                                                                                                                                                                          \n",
       "3  <div class=\"_5pcr userContentWrapper\"><div cla...                                                                                                                                                                                                                                                                                                                                                                                                                                                                                                                                                                                                                                                                                                                                                                                                                                                                                                                                                                                                                                                                                                                                                                                                                                                                                                                                                                                                                                                                                                                                                                                                                                                                                                                                                                                                                                                                                                                                                                                                                                                                                                                                                                                                                                                                                                                                                                                                                                                                                                                                                                                                                                                                                                                                                                                                                                                                                                                                                                                                                                                                                                                                                                                                                                                                                                                                                                                                                                                                                                                                                                                                                                                                                                                                          \n",
       "4  <div class=\"_5pcr userContentWrapper\"><div cla...                                                                                                                                                                                                                                                                                                                                                                                                                                                                                                                                                                                                                                                                                                                                                                                                                                                                                                                                                                                                                                                                                                                                                                                                                                                                                                                                                                                                                                                                                                                                                                                                                                                                                                                                                                                                                                                                                                                                                                                                                                                                                                                                                                                                                                                                                                                                                                                                                                                                                                                                                                                                                                                                                                                                                                                                                                                                                                                                                                                                                                                                                                                                                                                                                                                                                                                                                                                                                                                                                                                                                                                                                                                                                                                                          \n",
       "\n",
       "   3  0                                   Elizabeth Warren  \\\n",
       "0  3  0                                      Shri Thanedar   \n",
       "1  1  3                                               CARE   \n",
       "2  3  0                                       MJ for Texas   \n",
       "3  0  0  AARP Medicare Supplement Plans, insured by Uni...   \n",
       "4  3  0                     International Rescue Committee   \n",
       "\n",
       "  <p>We made these stickers to celebrate people like you who have refused to back down as Trump and the GOP deliver one gut-punch after another to the working people across the country. Tell us where to send your FREE limited-edition PERSIST sticker and we'll put it right in the mail.</p>  \\\n",
       "0  <p>Vote for a Stronger, Smarter Michigan by Vo...                                                                                                                                                                                                                                                \n",
       "1  <p>No food. No water. No home. There are nearl...                                                                                                                                                                                                                                                \n",
       "2  <p>As a veteran of the U.S. Air Force, a mothe...                                                                                                                                                                                                                                                \n",
       "3  <p>Like this page for quick and healthy holida...                                                                                                                                                                                                                                                \n",
       "4  <p>URGENT: President Trump’s executive order d...                                                                                                                                                                                                                                                \n",
       "\n",
       "  https://pp-facebook-ads.s3.amazonaws.com/v/t1.0-1/p80x80/34441200_10155774706728687_8710237734062522368_n.png  \\\n",
       "0  https://pp-facebook-ads.s3.amazonaws.com/v/t1....                                                              \n",
       "1  https://pp-facebook-ads.s3.amazonaws.com/v/t1....                                                              \n",
       "2  https://pp-facebook-ads.s3.amazonaws.com/v/t1....                                                              \n",
       "3  https://pp-facebook-ads.s3.amazonaws.com/v/t1....                                                              \n",
       "4  https://pp-facebook-ads.s3.amazonaws.com/v/t1....                                                              \n",
       "\n",
       "    2018-06-21 20:08:42.35098+00  2019-01-04 14:44:12.123412+00  en-US  ...  \\\n",
       "0  2018-06-21 19:40:52.638102+00  2019-01-04 14:44:43.791667+00  en-US  ...   \n",
       "1  2018-05-22 20:00:11.678637+00  2018-05-23 18:27:58.596213+00  en-US  ...   \n",
       "2  2018-06-21 20:06:11.500505+00  2019-01-04 14:44:20.460757+00  en-US  ...   \n",
       "3  2018-12-29 19:01:53.327363+00  2018-12-29 19:01:53.327363+00  en-US  ...   \n",
       "4   2018-06-21 20:06:11.46361+00  2019-01-04 14:44:22.044652+00  en-US  ...   \n",
       "\n",
       "   f  \\\n",
       "0  f   \n",
       "1  f   \n",
       "2  f   \n",
       "3  f   \n",
       "4  f   \n",
       "\n",
       "   [{\"target\": \"Age\", \"segment\": \"34 to 49\"}, {\"target\": \"MinAge\", \"segment\": \"34\"}, {\"target\": \"MaxAge\", \"segment\": \"49\"}, {\"target\": \"Region\", \"segment\": \"the United States\"}, {\"target\": \"Gender\", \"segment\": \"women\"}, {\"target\": \"List\"}]  \\\n",
       "0  [{\"target\": \"Age\", \"segment\": \"24 and older\"},...                                                                                                                                                                                              \n",
       "1  [{\"target\": \"Age\", \"segment\": \"35 and older\"},...                                                                                                                                                                                              \n",
       "2  [{\"target\": \"Age\", \"segment\": \"18 and older\"},...                                                                                                                                                                                              \n",
       "3  [{\"target\": \"Interest\", \"segment\": \"AARP\"}, {\"...                                                                                                                                                                                              \n",
       "4  [{\"target\": \"Age\", \"segment\": \"18 and older\"},...                                                                                                                                                                                              \n",
       "\n",
       "                                  Elizabeth Warren.1  \\\n",
       "0                                      Shri Thanedar   \n",
       "1                                               CARE   \n",
       "2                                       MJ for Texas   \n",
       "3  AARP Medicare Supplement Plans, insured by Uni...   \n",
       "4                     International Rescue Committee   \n",
       "\n",
       "  [{\"entity\": \"FREE\", \"entity_type\": \"Organization\"}, {\"entity\": \"GOP\", \"entity_type\": \"Organization\"}, {\"entity\": \"PERSIST\", \"entity_type\": \"Organization\"}, {\"entity\": \"Trump and\", \"entity_type\": \"Organization\"}]  \\\n",
       "0  [{\"entity\": \"Voting\", \"entity_type\": \"Organiza...                                                                                                                                                                    \n",
       "1                                                 []                                                                                                                                                                    \n",
       "2  [{\"entity\": \"Congress\", \"entity_type\": \"Organi...                                                                                                                                                                    \n",
       "3                                                 []                                                                                                                                                                    \n",
       "4  [{\"entity\": \"Donald Trump\", \"entity_type\": \"Pe...                                                                                                                                                                    \n",
       "\n",
       "           https://www.facebook.com/ElizabethWarren/  \\\n",
       "0                https://www.facebook.com/ShriForMI/   \n",
       "1                 https://www.facebook.com/carefans/   \n",
       "2               https://www.facebook.com/MJforTexas/   \n",
       "3   https://www.facebook.com/AARPMedicareSupplement/   \n",
       "4  https://www.facebook.com/InternationalRescueCo...   \n",
       "\n",
       "           https://www.facebook.com/elizabethwarren/  \\\n",
       "0                https://www.facebook.com/shriformi/   \n",
       "1                 https://www.facebook.com/carefans/   \n",
       "2               https://www.facebook.com/mjfortexas/   \n",
       "3   https://www.facebook.com/aarpmedicaresupplement/   \n",
       "4  https://www.facebook.com/internationalrescueco...   \n",
       "\n",
       "  {\"<div><div class=\\\"_4-i0 _26c5\\\"><div class=\\\"clearfix\\\"><div class=\\\"_51-u rfloat _ohf\\\"><a class=\\\"_42ft _5upp _50zy layerCancel _51-t _50-0 _50z-\\\" href=\\\"nullblank\\\">Close</a></div><div><h3 id=\\\"u_5x_0\\\" class=\\\"_52c9\\\">About this Facebook ad</h3></div></div></div><div class=\\\"_4-i2 _pig _4s3a _50f4\\\"><div class=\\\"_4uov\\\"><div class=\\\"_4uoz\\\"><div id=\\\"u_5x_1\\\"></div><div class=\\\"_3-8x\\\"><span class=\\\"_4v6n\\\"><div id=\\\"u_5x_2\\\">One reason you're seeing this ad is that <b id=\\\"ad_prefs_advertiser\\\">Elizabeth Warren</b> added you to a list of people they want to reach on Facebook. They were able to reach you because <b id=\\\"ad_prefs_data_file\\\">you're on a customer list collected by Elizabeth Warren or its partners,</b> or you've provided them with your contact information off of Facebook.</div></span><div class=\\\"_4hcd\\\"><span>There may be other reasons why you're seeing this ad, including that Elizabeth Warren wants to reach <b>women aged 34 to 49 who live in the United States</b>. This is information based on your Facebook profile and where you've connected to the Internet.</span></div></div></div><div></div><div class=\\\"_4uor _52jw\\\"><div class=\\\"_5aj7\\\" id=\\\"u_5x_3\\\"><div class=\\\"_4bl9\\\"></div><div class=\\\"_4bl7 _5r7v\\\"><i class=\\\"img sp_KkPK2i2wr3h_1_5x sx_2e7d05\\\"><u>gear</u></i></div><div class=\\\"_4bl7\\\"><a href=\\\"https://www.facebook.com/ads/preferences/\\\">Manage Your ad preferences</a></div></div></div><div class=\\\"mhs _1ray _1ra- _4uos\\\"></div><div class=\\\"_4uou\\\"><div class=\\\"_26c6 _3es4 fsl fwb fcb\\\">Tell us what you think</div><div><div class=\\\"clearfix _ikh\\\" id=\\\"u_5x_4\\\"><div class=\\\"_4bl7 _3es3\\\">Was this explanation useful?</div><div class=\\\"_4bl7 _2pit\\\"><a href=\\\"nullblank\\\" id=\\\"u_5x_5\\\">Yes</a></div><div class=\\\"_4bl9 _2pit\\\"><a href=\\\"nullblank\\\" id=\\\"u_5x_6\\\">No</a></div></div><span class=\\\"hidden_elem _3es3\\\" id=\\\"u_5x_7\\\">Thanks for your rating.</span></div></div></div></div><div class=\\\"_5lnf uiOverlayFooter _5a8u _4866\\\"><table class=\\\"uiGrid _51mz uiOverlayFooterGrid\\\"><tbody><tr class=\\\"_51mx\\\"><td class=\\\"_51m- prs uiOverlayFooterMessage\\\"><a><i class=\\\"_4868 img sp_lWDeTZIqYK9_1_5x sx_5cccfd\\\"><u>info</u></i><span class=\\\"_4867\\\">Learn more about Facebook Ads</span></a></td><td class=\\\"_51m- uiOverlayFooterButtons _51mw\\\"></td></tr></tbody></table></div></div>\",\"<div><div class=\\\"_4-i0 _26c5\\\"><div class=\\\"clearfix\\\"><div class=\\\"_51-u rfloat _ohf\\\"><a class=\\\"_42ft _5upp _50zy layerCancel _51-t _50-0 _50z-\\\" href=\\\"nullblank\\\">Close</a></div><div><h3 id=\\\"u_5x_0\\\" class=\\\"_52c9\\\">About this Facebook ad</h3></div></div></div><div class=\\\"_4-i2 _pig _4s3a _50f4\\\"><div class=\\\"_4uov\\\"><div class=\\\"_4uoz\\\"><div id=\\\"u_5x_1\\\"></div><div class=\\\"_3-8x\\\"><span class=\\\"_4v6n\\\"><div id=\\\"u_5x_2\\\">One reason you're seeing this ad is that <b id=\\\"ad_prefs_advertiser\\\">Elizabeth Warren</b> added you to a list of people they want to reach on Facebook. They were able to reach you because <b id=\\\"ad_prefs_data_file\\\">you're on a customer list collected by Elizabeth Warren or its partners,</b> or you've provided them with your contact information off of Facebook.</div></span><div class=\\\"_4hcd\\\"><span>There may be other reasons why you're seeing this ad, including that Elizabeth Warren wants to reach <b>women aged 34 to 49 who live in the United States</b>. This is information based on your Facebook profile and where you've connected to the Internet.</span></div></div></div><div></div><div class=\\\"_4uor _52jw\\\"><div class=\\\"_5aj7\\\" id=\\\"u_5x_3\\\"><div class=\\\"_4bl9\\\"></div><div class=\\\"_4bl7 _5r7v\\\"><i class=\\\"img sp_KkPK2i2wr3h_1_5x sx_2e7d05\\\"><u>gear</u></i></div><div class=\\\"_4bl7\\\"><a href=\\\"https://www.facebook.com/ads/preferences/\\\">Manage Your ad preferences</a></div></div></div><div class=\\\"mhs _1ray _1ra- _4uos\\\"></div><div class=\\\"_4uou\\\"><div class=\\\"_26c6 _3es4 fsl fwb fcb\\\">Tell us what you think</div><div><div class=\\\"clearfix _ikh\\\" id=\\\"u_5x_4\\\"><div class=\\\"_4bl7 _3es3\\\">Was this explanation useful?</div><div class=\\\"_4bl7 _2pit\\\"><a href=\\\"nullblank\\\" id=\\\"u_5x_5\\\">Yes</a></div><div class=\\\"_4bl9 _2pit\\\"><a href=\\\"nullblank\\\" id=\\\"u_5x_6\\\">No</a></div></div><span class=\\\"hidden_elem _3es3\\\" id=\\\"u_5x_7\\\">Thanks for your rating.</span></div></div></div></div><div class=\\\"_5lnf uiOverlayFooter _5a8u _4866\\\"><table class=\\\"uiGrid _51mz uiOverlayFooterGrid\\\"><tbody><tr class=\\\"_51mx\\\"><td class=\\\"_51m- prs uiOverlayFooterMessage\\\"><a><i class=\\\"_4868 img sp_lWDeTZIqYK9_1_5x sx_5cccfd\\\"><u>info</u></i><span class=\\\"_4867\\\">Learn more about Facebook Ads</span></a></td><td class=\\\"_51m- uiOverlayFooterButtons _51mw\\\"></td></tr></tbody></table></div></div>\",\"<div><div class=\\\"_4-i0 _26c5\\\"><div class=\\\"clearfix\\\"><div class=\\\"_51-u rfloat _ohf\\\"><a class=\\\"_42ft _5upp _50zy layerCancel _51-t _50-0 _50z-\\\" href=\\\"nullblank\\\">Close</a></div><div><h3 id=\\\"u_5x_0\\\" class=\\\"_52c9\\\">About this Facebook ad</h3></div></div></div><div class=\\\"_4-i2 _pig _4s3a _50f4\\\"><div class=\\\"_4uov\\\"><div class=\\\"_4uoz\\\"><div id=\\\"u_5x_1\\\"></div><div class=\\\"_3-8x\\\"><span class=\\\"_4v6n\\\"><div id=\\\"u_5x_2\\\">One reason you're seeing this ad is that <b id=\\\"ad_prefs_advertiser\\\">Elizabeth Warren</b> added you to a list of people they want to reach on Facebook. They were able to reach you because <b id=\\\"ad_prefs_data_file\\\">you're on a customer list collected by Elizabeth Warren or its partners,</b> or you've provided them with your contact information off of Facebook.</div></span><div class=\\\"_4hcd\\\"><span>There may be other reasons why you're seeing this ad, including that Elizabeth Warren wants to reach <b>women aged 34 to 49 who live in the United States</b>. This is information based on your Facebook profile and where you've connected to the Internet.</span></div></div></div><div></div><div class=\\\"_4uor _52jw\\\"><div class=\\\"_5aj7\\\" id=\\\"u_5x_3\\\"><div class=\\\"_4bl9\\\"></div><div class=\\\"_4bl7 _5r7v\\\"><i class=\\\"img sp_KkPK2i2wr3h_1_5x sx_2e7d05\\\"><u>gear</u></i></div><div class=\\\"_4bl7\\\"><a href=\\\"https://www.facebook.com/ads/preferences/\\\">Manage Your ad preferences</a></div></div></div><div class=\\\"mhs _1ray _1ra- _4uos\\\"></div><div class=\\\"_4uou\\\"><div class=\\\"_26c6 _3es4 fsl fwb fcb\\\">Tell us what you think</div><div><div class=\\\"clearfix _ikh\\\" id=\\\"u_5x_4\\\"><div class=\\\"_4bl7 _3es3\\\">Was this explanation useful?</div><div class=\\\"_4bl7 _2pit\\\"><a href=\\\"nullblank\\\" id=\\\"u_5x_5\\\">Yes</a></div><div class=\\\"_4bl9 _2pit\\\"><a href=\\\"nullblank\\\" id=\\\"u_5x_6\\\">No</a></div></div><span class=\\\"hidden_elem _3es3\\\" id=\\\"u_5x_7\\\">Thanks for your rating.</span></div></div></div></div><div class=\\\"_5lnf uiOverlayFooter _5a8u _4866\\\"><table class=\\\"uiGrid _51mz uiOverlayFooterGrid\\\"><tbody><tr class=\\\"_51mx\\\"><td class=\\\"_51m- prs uiOverlayFooterMessage\\\"><a><i class=\\\"_4868 img sp_lWDeTZIqYK9_1_5x sx_5cccfd\\\"><u>info</u></i><span class=\\\"_4867\\\">Learn more about Facebook Ads</span></a></td><td class=\\\"_51m- uiOverlayFooterButtons _51mw\\\"></td></tr></tbody></table></div></div>\"}  \\\n",
       "0  {\"<div><div class=\\\"_4-i0 _26c5\\\"><div class=\\...                                                                                                                                                                                                                                                                                                                                                                                                                                                                                                                                                                                                                                                                                                                                                                                                                                                                                                                                                                                                                                                                                                                                                                                                                                                                                                                                                                                                                                                                                                                                                                                                                                                                                                                                                                                                                                                                                                                                                                                                                                                                                                                                                                                                                                                                                                                                                                                                                                                                                                                                                                                                                                                                                                                                                                                                                                                                                                                                                                                                                                                                                                                                                                                                                                                                                                                                                                                                                                                                                                                                                                                                                                                                                                                                                                                                                                                                                                                                                                                                                                                                                                                                                                                                                                                                                                                                                                                                                                                                                                                                                                                                                                                                                                                                                                                                                                                                                                                                                                                                                                                                                                                                                                                                                                                                                                                                                                                                                                                                                                                                                                                                                                                                                                                                                                                                                                                                                                                                                                                                                                                                                                                                                                                                                                                                                                                                                                                                                                                                                                                                                                                                                                                                                                                                                                                                                                                                                                                                                                                                                                                                                                                                                                                                                                                     \n",
       "1  {\"<div><div class=\\\"_4-i0 _26c5\\\"><div class=\\...                                                                                                                                                                                                                                                                                                                                                                                                                                                                                                                                                                                                                                                                                                                                                                                                                                                                                                                                                                                                                                                                                                                                                                                                                                                                                                                                                                                                                                                                                                                                                                                                                                                                                                                                                                                                                                                                                                                                                                                                                                                                                                                                                                                                                                                                                                                                                                                                                                                                                                                                                                                                                                                                                                                                                                                                                                                                                                                                                                                                                                                                                                                                                                                                                                                                                                                                                                                                                                                                                                                                                                                                                                                                                                                                                                                                                                                                                                                                                                                                                                                                                                                                                                                                                                                                                                                                                                                                                                                                                                                                                                                                                                                                                                                                                                                                                                                                                                                                                                                                                                                                                                                                                                                                                                                                                                                                                                                                                                                                                                                                                                                                                                                                                                                                                                                                                                                                                                                                                                                                                                                                                                                                                                                                                                                                                                                                                                                                                                                                                                                                                                                                                                                                                                                                                                                                                                                                                                                                                                                                                                                                                                                                                                                                                                                     \n",
       "2  {\"<div><div class=\\\"_4-i0 _26c5\\\"><div class=\\...                                                                                                                                                                                                                                                                                                                                                                                                                                                                                                                                                                                                                                                                                                                                                                                                                                                                                                                                                                                                                                                                                                                                                                                                                                                                                                                                                                                                                                                                                                                                                                                                                                                                                                                                                                                                                                                                                                                                                                                                                                                                                                                                                                                                                                                                                                                                                                                                                                                                                                                                                                                                                                                                                                                                                                                                                                                                                                                                                                                                                                                                                                                                                                                                                                                                                                                                                                                                                                                                                                                                                                                                                                                                                                                                                                                                                                                                                                                                                                                                                                                                                                                                                                                                                                                                                                                                                                                                                                                                                                                                                                                                                                                                                                                                                                                                                                                                                                                                                                                                                                                                                                                                                                                                                                                                                                                                                                                                                                                                                                                                                                                                                                                                                                                                                                                                                                                                                                                                                                                                                                                                                                                                                                                                                                                                                                                                                                                                                                                                                                                                                                                                                                                                                                                                                                                                                                                                                                                                                                                                                                                                                                                                                                                                                                                     \n",
       "3  {\"<div><div class=\\\"_4-i0 _26c5\\\"><div class=\\...                                                                                                                                                                                                                                                                                                                                                                                                                                                                                                                                                                                                                                                                                                                                                                                                                                                                                                                                                                                                                                                                                                                                                                                                                                                                                                                                                                                                                                                                                                                                                                                                                                                                                                                                                                                                                                                                                                                                                                                                                                                                                                                                                                                                                                                                                                                                                                                                                                                                                                                                                                                                                                                                                                                                                                                                                                                                                                                                                                                                                                                                                                                                                                                                                                                                                                                                                                                                                                                                                                                                                                                                                                                                                                                                                                                                                                                                                                                                                                                                                                                                                                                                                                                                                                                                                                                                                                                                                                                                                                                                                                                                                                                                                                                                                                                                                                                                                                                                                                                                                                                                                                                                                                                                                                                                                                                                                                                                                                                                                                                                                                                                                                                                                                                                                                                                                                                                                                                                                                                                                                                                                                                                                                                                                                                                                                                                                                                                                                                                                                                                                                                                                                                                                                                                                                                                                                                                                                                                                                                                                                                                                                                                                                                                                                                     \n",
       "4  {\"<div><div class=\\\"_4-i0 _26c5\\\"><div class=\\...                                                                                                                                                                                                                                                                                                                                                                                                                                                                                                                                                                                                                                                                                                                                                                                                                                                                                                                                                                                                                                                                                                                                                                                                                                                                                                                                                                                                                                                                                                                                                                                                                                                                                                                                                                                                                                                                                                                                                                                                                                                                                                                                                                                                                                                                                                                                                                                                                                                                                                                                                                                                                                                                                                                                                                                                                                                                                                                                                                                                                                                                                                                                                                                                                                                                                                                                                                                                                                                                                                                                                                                                                                                                                                                                                                                                                                                                                                                                                                                                                                                                                                                                                                                                                                                                                                                                                                                                                                                                                                                                                                                                                                                                                                                                                                                                                                                                                                                                                                                                                                                                                                                                                                                                                                                                                                                                                                                                                                                                                                                                                                                                                                                                                                                                                                                                                                                                                                                                                                                                                                                                                                                                                                                                                                                                                                                                                                                                                                                                                                                                                                                                                                                                                                                                                                                                                                                                                                                                                                                                                                                                                                                                                                                                                                                     \n",
       "\n",
       "        Unnamed: 21    9 0.309519095346332  \n",
       "0               NaN  4.0          0.245959  \n",
       "1               NaN  4.0          0.999972  \n",
       "2               NaN  2.0          1.000000  \n",
       "3  UnitedHealthcare  5.0               NaN  \n",
       "4               NaN  2.0          0.999903  \n",
       "\n",
       "[5 rows x 24 columns]"
      ]
     },
     "execution_count": 13,
     "metadata": {},
     "output_type": "execute_result"
    }
   ],
   "source": [
    "raw_ads.head()"
   ]
  },
  {
   "cell_type": "code",
   "execution_count": null,
   "metadata": {},
   "outputs": [],
   "source": []
  },
  {
   "cell_type": "markdown",
   "metadata": {},
   "source": [
    "Let's take a looks at one ..."
   ]
  },
  {
   "cell_type": "code",
   "execution_count": null,
   "metadata": {},
   "outputs": [],
   "source": [
    "Show(filename='bikes_data/images/1/IMG_1494.JPG')"
   ]
  },
  {
   "cell_type": "markdown",
   "metadata": {},
   "source": [
    "Notebooks aren't great at playing videos, so I posted `bikes_data/intersection_movie.mov` on [Vimeo](https://vimeo.com/354069170)."
   ]
  },
  {
   "cell_type": "markdown",
   "metadata": {},
   "source": [
    "Now we need to load our image data in a format that's ready for the training code. We do that with fast.ai's data block."
   ]
  },
  {
   "cell_type": "code",
   "execution_count": null,
   "metadata": {},
   "outputs": [],
   "source": [
    "data_path = Path('./bikes_data/images') ## The path for our data\n",
    "\n",
    "np.random.seed(12)\n",
    "\n",
    "data = (ImageList.from_folder(data_path)  #Where to find the data? -> in path and its subfolders\n",
    "        .split_by_rand_pct()  #How to split in train/valid? -> do it *randomly* (Not by folder)\n",
    "        .label_from_folder()         #How to label? -> depending on the folder of the filenames\n",
    "        .transform(get_transforms(), size=(224,224))  #Data transforms applied, size of images shrink to 224\n",
    "        .databunch(bs=48))"
   ]
  },
  {
   "cell_type": "code",
   "execution_count": null,
   "metadata": {},
   "outputs": [],
   "source": [
    "data_path.ls()"
   ]
  },
  {
   "cell_type": "code",
   "execution_count": null,
   "metadata": {
    "scrolled": true
   },
   "outputs": [],
   "source": [
    "data.show_batch(rows=3)"
   ]
  },
  {
   "cell_type": "code",
   "execution_count": null,
   "metadata": {},
   "outputs": [],
   "source": [
    "# Let's be sure to check our classes\n",
    "print(data.classes)"
   ]
  },
  {
   "cell_type": "markdown",
   "metadata": {},
   "source": [
    "## Training\n",
    "\n",
    "Now we will start training our model. We will use a convolutional neural network backbone and a fully connected head with a single hidden layer as a classifier. Don't know what these things mean? Most people don't! For a deeper dive, check out the fast.ai courses.\n",
    "\n",
    "But for now, you need to know that we are building a model which will take images as input and will output the predicted probability for each of the categories: 0 and 1\n",
    "\n",
    "### Transfer learning with resnet34\n",
    "\n",
    "Training a computer-vision mode from scratch to solve our problem would take thousands of images. Maybe more. Instead we take advantage of an existing model that was trained to detect objects -- from planes, to cars, to dogs, to birds -- by processing millions of images. This model is called \"resnet34.\"\n",
    "\n",
    "With fast.ai we can infuse this model with our images (and their labels). This takes advantage of all of resnet34's \"knowledge\" of image-detection and tacks on our particular problem. This technique is called \"transfer learning.\"\n",
    "\n",
    "First we load our `data` and `model.resnet34` together into a training model known as a \"learner.\""
   ]
  },
  {
   "cell_type": "code",
   "execution_count": null,
   "metadata": {},
   "outputs": [],
   "source": [
    "learn = cnn_learner(data, models.resnet34, metrics=error_rate)"
   ]
  },
  {
   "cell_type": "markdown",
   "metadata": {},
   "source": [
    "We will train for 6 epochs (6 cycles through all our data)."
   ]
  },
  {
   "cell_type": "code",
   "execution_count": null,
   "metadata": {},
   "outputs": [],
   "source": [
    "learn.fit_one_cycle(6)"
   ]
  },
  {
   "cell_type": "markdown",
   "metadata": {},
   "source": [
    "#### How are we doing?\n",
    "\n",
    "So far, we have a pretty good error rate. It's actually possible to do even better, but we'll stick with this for now.\n",
    "\n",
    "We can take a look to see where the model was most confused, and whether what the model predicted was reasonable or not."
   ]
  },
  {
   "cell_type": "code",
   "execution_count": null,
   "metadata": {},
   "outputs": [],
   "source": [
    "interp = ClassificationInterpretation.from_learner(learn)\n",
    "losses,idxs = interp.top_losses()\n",
    "len(data.valid_ds)==len(losses)==len(idxs)"
   ]
  },
  {
   "cell_type": "code",
   "execution_count": null,
   "metadata": {},
   "outputs": [],
   "source": [
    "interp.plot_top_losses(9, heatmap=True)"
   ]
  },
  {
   "cell_type": "markdown",
   "metadata": {},
   "source": [
    "We can also see the situations in which it was most confused:"
   ]
  },
  {
   "cell_type": "code",
   "execution_count": null,
   "metadata": {},
   "outputs": [],
   "source": [
    "interp.plot_confusion_matrix(figsize=(4,4), dpi=60)"
   ]
  },
  {
   "cell_type": "markdown",
   "metadata": {},
   "source": [
    "Let's save what we have in case we mess it up later!"
   ]
  },
  {
   "cell_type": "code",
   "execution_count": null,
   "metadata": {},
   "outputs": [],
   "source": [
    "learn.save('bikes-1')"
   ]
  },
  {
   "cell_type": "code",
   "execution_count": null,
   "metadata": {},
   "outputs": [],
   "source": [
    "Show(filename='bikes_data/never_seen_image.jpg', width=640)"
   ]
  },
  {
   "cell_type": "code",
   "execution_count": null,
   "metadata": {},
   "outputs": [],
   "source": [
    "img = open_image('bikes_data/never_seen_image.jpg')"
   ]
  },
  {
   "cell_type": "code",
   "execution_count": null,
   "metadata": {},
   "outputs": [],
   "source": [
    "learn.predict(img)"
   ]
  },
  {
   "cell_type": "code",
   "execution_count": null,
   "metadata": {},
   "outputs": [],
   "source": [
    "pred_class,pred_idx,outputs = learn.predict(img)"
   ]
  },
  {
   "cell_type": "code",
   "execution_count": null,
   "metadata": {},
   "outputs": [],
   "source": [
    "pred_class"
   ]
  },
  {
   "cell_type": "code",
   "execution_count": null,
   "metadata": {},
   "outputs": [],
   "source": [
    "int(pred_class)"
   ]
  },
  {
   "cell_type": "code",
   "execution_count": null,
   "metadata": {},
   "outputs": [],
   "source": [
    "outputs"
   ]
  },
  {
   "cell_type": "code",
   "execution_count": null,
   "metadata": {
    "scrolled": true
   },
   "outputs": [],
   "source": [
    "outputs[1]"
   ]
  },
  {
   "cell_type": "code",
   "execution_count": null,
   "metadata": {},
   "outputs": [],
   "source": []
  },
  {
   "cell_type": "markdown",
   "metadata": {},
   "source": [
    "We're also going to _export_ the entire package as a \"pickle\" file called `export.pkl`\n",
    "\n",
    "**Warning for Google Colab users!** Later, when you've done more fine tuning and want to save what you've done, you need to give permission for this notebook to write files to your Google Drive. In that case, you'll want to run the next cell and follow the permission-granting steps. For now, you can skip this."
   ]
  },
  {
   "cell_type": "code",
   "execution_count": null,
   "metadata": {},
   "outputs": [],
   "source": [
    "## THIS CELL WILL ALLOW GOOGLE COLAB USERS SAVE MODELS TO YOUR GOOGLE DRIVE\n",
    "\n",
    "from google.colab import drive\n",
    "drive.mount('/content/gdrive', force_remount=True)\n",
    "root_dir = \"/content/gdrive/My Drive/\"\n",
    "save_path = Path(root_dir + 'ai-bikes/')\n",
    "save_path.mkdir(parents=True, exist_ok=True)"
   ]
  },
  {
   "cell_type": "code",
   "execution_count": null,
   "metadata": {},
   "outputs": [],
   "source": [
    "learn.export(\"export.pkl\")"
   ]
  },
  {
   "cell_type": "markdown",
   "metadata": {},
   "source": [
    "## Search our video\n",
    "\n",
    "Now we'll apply our model to our video! First we need to turn the video into a bunch of images using `ffmpeg`, which we loaded at the beginning of this notebook."
   ]
  },
  {
   "cell_type": "code",
   "execution_count": null,
   "metadata": {},
   "outputs": [],
   "source": [
    "!ffmpeg -i bikes_data/intersection_movie.mov -vf fps=1 -vsync 0 myframe%04d.jpg"
   ]
  },
  {
   "cell_type": "code",
   "execution_count": null,
   "metadata": {},
   "outputs": [],
   "source": [
    "%ls"
   ]
  },
  {
   "cell_type": "code",
   "execution_count": null,
   "metadata": {},
   "outputs": [],
   "source": [
    "glob.glob('myframe*.*')"
   ]
  },
  {
   "cell_type": "code",
   "execution_count": null,
   "metadata": {},
   "outputs": [],
   "source": [
    "# learn = load_learner(path)  # this gets the exported pickle file, which is stored in the image data path"
   ]
  },
  {
   "cell_type": "code",
   "execution_count": null,
   "metadata": {},
   "outputs": [],
   "source": [
    "file_list = sorted(glob.glob('myframe*.*'))\n",
    "\n",
    "for file in file_list:\n",
    "    image = open_image(file)\n",
    "    pred_class,pred_idx,outputs = learn.predict(image)\n",
    "        \n",
    "    if int(pred_class) == 1 and outputs[1] > 0.85:\n",
    "        print(f'Bike detected in {file} with confidence {outputs[1]}')\n",
    "    "
   ]
  },
  {
   "cell_type": "code",
   "execution_count": null,
   "metadata": {},
   "outputs": [],
   "source": [
    "Show(filename='myframe0025.jpg')"
   ]
  },
  {
   "cell_type": "code",
   "execution_count": null,
   "metadata": {},
   "outputs": [],
   "source": []
  }
 ],
 "metadata": {
  "kernelspec": {
   "display_name": "Python 3",
   "language": "python",
   "name": "python3"
  },
  "language_info": {
   "codemirror_mode": {
    "name": "ipython",
    "version": 3
   },
   "file_extension": ".py",
   "mimetype": "text/x-python",
   "name": "python",
   "nbconvert_exporter": "python",
   "pygments_lexer": "ipython3",
   "version": "3.6.9"
  }
 },
 "nbformat": 4,
 "nbformat_minor": 2
}
